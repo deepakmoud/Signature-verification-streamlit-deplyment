{
 "cells": [
  {
   "cell_type": "code",
   "execution_count": 1,
   "metadata": {
    "id": "_Sf8lLdMYsCh"
   },
   "outputs": [
    {
     "name": "stderr",
     "output_type": "stream",
     "text": [
      "2022-02-24 12:31:05.092587: I tensorflow/stream_executor/platform/default/dso_loader.cc:49] Successfully opened dynamic library libcudart.so.10.1\n"
     ]
    }
   ],
   "source": [
    "# Importing the Keras libraries and packages\n",
    "\n",
    "import tensorflow as tf\n",
    "from tensorflow.keras import datasets, layers, models\n",
    "import matplotlib.pyplot as plt\n",
    "import numpy as np\n",
    "\n",
    "from tensorflow.keras.models import Sequential\n",
    "from tensorflow.keras.layers import Conv2D\n",
    "from tensorflow.keras.layers import MaxPooling2D,MaxPool2D\n",
    "from tensorflow.keras.layers import Flatten\n",
    "from tensorflow.keras.layers import Dense\n",
    "image_shape=(224,224,3)\n"
   ]
  },
  {
   "cell_type": "code",
   "execution_count": null,
   "metadata": {
    "colab": {
     "base_uri": "https://localhost:8080/"
    },
    "id": "90n6dcKIY3by",
    "outputId": "cedf7dca-b104-48ee-a80f-c7e41f8596c5"
   },
   "outputs": [],
   "source": [
    "# convering Images into npy files\n",
    "\n",
    "import os\n",
    "\n",
    "\n",
    "def images_to_array(dataset_dir, image_size):\n",
    "    dataset_array = []\n",
    "    dataset_labels = []\n",
    "\n",
    "    class_counter = 0\n",
    "\n",
    "    classes_names = os.listdir(dataset_dir)\n",
    "    for current_class_name in classes_names:\n",
    "        class_dir = os.path.join(dataset_dir, current_class_name)\n",
    "        images_in_class = os.listdir(class_dir)\n",
    "\n",
    "        print(\"Class index\", class_counter, \", \", current_class_name, \":\" , len(images_in_class))\n",
    "\n",
    "        for image_file in images_in_class:\n",
    "            if image_file.endswith(\".jpg\"):\n",
    "              image_file_dir = os.path.join(class_dir, image_file)\n",
    "\n",
    "              img = tf.keras.preprocessing.image.load_img(image_file_dir, target_size=(image_size, image_size))\n",
    "              img_array = tf.keras.preprocessing.image.img_to_array(img)\n",
    "\n",
    "              img_array = img_array/255.0\n",
    "\n",
    "              dataset_array.append(img_array)\n",
    "              dataset_labels.append(class_counter)\n",
    "        class_counter = class_counter + 1\n",
    "    dataset_array = np.array(dataset_array)\n",
    "    dataset_labels = np.array(dataset_labels)\n",
    "    return dataset_array, dataset_labels\n",
    "\n",
    "#zip_file = tf.keras.utils.get_file(origin=\"https://storage.googleapis.com/kaggle-datasets/5857/414958/fruits-360_dataset.zip?GoogleAccessId=web-data@kaggle-161607.iam.gserviceaccount.com&Expires=1566314394&Signature=rqm4aS%2FIxgWrNSJ84ccMfQGpjJzZ7gZ9WmsKok6quQMyKin14vJyHBMSjqXSHR%2B6isrN2POYfwXqAgibIkeAy%2FcB2OIrxTsBtCmKUQKuzqdGMnXiLUiSKw0XgKUfvYOTC%2F0gdWMv%2B2xMLMjZQ3CYwUHNnPoDRPm9GopyyA6kZO%2B0UpwB59uwhADNiDNdVgD3GPMVleo4hPdOBVHpaWl%2F%2B%2BPDkOmQdlcH6b%2F983JHaktssmnCu8f0LVeQjzZY96d24O4H85x8wdZtmkHZCoFiIgCCMU%2BKMMBAbTL66QiUUB%2FW%2FpULPlpzN9sBBUR2yydB3CUwqLmSjAcwz3wQ%2FpIhzg%3D%3D\",\n",
    " #                                  fname=\"fruits-360.zip\", extract=True)\n",
    "base_dir = '/home/poornima/Data/GDPS'\n",
    "\n",
    "train_dir = '/home/poornima/Data/GDPS/train_dir'\n",
    "image_size = 224\n",
    "train_dataset_array, train_dataset_array_labels = images_to_array(dataset_dir=train_dir, image_size=image_size)\n",
    "print(\"Training Data Array Shape :\", train_dataset_array.shape)\n",
    "np.save(\"train_dataset_array.npy\", train_dataset_array)\n",
    "np.save(\"train_dataset_array_labels.npy\", train_dataset_array_labels)\n",
    "\n",
    "test_dir = '/home/poornima/Data/GDPS/val_dir'\n",
    "test_dataset_array, test_dataset_array_labels = images_to_array(dataset_dir=test_dir, image_size=image_size)\n",
    "print(\"Test Data Array Shape :\", test_dataset_array.shape)\n",
    "np.save(\"test_dataset_array.npy\", test_dataset_array)\n",
    "np.save(\"test_dataset_array_labels.npy\", test_dataset_array_labels)"
   ]
  },
  {
   "cell_type": "code",
   "execution_count": null,
   "metadata": {
    "colab": {
     "base_uri": "https://localhost:8080/"
    },
    "id": "yed6-8x8Y6bM",
    "outputId": "97745381-791e-4a8a-afcb-c1663f2aec22"
   },
   "outputs": [],
   "source": [
    "classes = [\"genuine\",\"forged\"]"
   ]
  },
  {
   "cell_type": "code",
   "execution_count": null,
   "metadata": {},
   "outputs": [],
   "source": [
    "X_train= np.load('train_dataset_array.npy')\n",
    "y_train= np.load('train_dataset_array_labels.npy')\n",
    "X_test=  np.load('test_dataset_array.npy')\n",
    "y_test=  np.load('test_dataset_array_labels.npy')"
   ]
  },
  {
   "cell_type": "code",
   "execution_count": null,
   "metadata": {},
   "outputs": [],
   "source": [
    "X_train =X_train / 255\n",
    "X_test = X_test / 255"
   ]
  },
  {
   "cell_type": "code",
   "execution_count": 2,
   "metadata": {},
   "outputs": [
    {
     "name": "stderr",
     "output_type": "stream",
     "text": [
      "2022-02-24 12:31:13.546009: I tensorflow/compiler/jit/xla_cpu_device.cc:41] Not creating XLA devices, tf_xla_enable_xla_devices not set\n",
      "2022-02-24 12:31:13.548083: I tensorflow/stream_executor/platform/default/dso_loader.cc:49] Successfully opened dynamic library libcuda.so.1\n",
      "2022-02-24 12:31:13.627347: I tensorflow/core/common_runtime/gpu/gpu_device.cc:1720] Found device 0 with properties: \n",
      "pciBusID: 0000:18:00.0 name: Quadro RTX 8000 computeCapability: 7.5\n",
      "coreClock: 1.77GHz coreCount: 72 deviceMemorySize: 47.45GiB deviceMemoryBandwidth: 625.94GiB/s\n",
      "2022-02-24 12:31:13.627428: I tensorflow/stream_executor/platform/default/dso_loader.cc:49] Successfully opened dynamic library libcudart.so.10.1\n",
      "2022-02-24 12:31:13.649397: I tensorflow/stream_executor/platform/default/dso_loader.cc:49] Successfully opened dynamic library libcublas.so.10\n",
      "2022-02-24 12:31:13.649523: I tensorflow/stream_executor/platform/default/dso_loader.cc:49] Successfully opened dynamic library libcublasLt.so.10\n",
      "2022-02-24 12:31:13.662842: I tensorflow/stream_executor/platform/default/dso_loader.cc:49] Successfully opened dynamic library libcufft.so.10\n",
      "2022-02-24 12:31:13.665902: I tensorflow/stream_executor/platform/default/dso_loader.cc:49] Successfully opened dynamic library libcurand.so.10\n",
      "2022-02-24 12:31:13.688271: I tensorflow/stream_executor/platform/default/dso_loader.cc:49] Successfully opened dynamic library libcusolver.so.10\n",
      "2022-02-24 12:31:13.693080: I tensorflow/stream_executor/platform/default/dso_loader.cc:49] Successfully opened dynamic library libcusparse.so.10\n",
      "2022-02-24 12:31:13.733196: I tensorflow/stream_executor/platform/default/dso_loader.cc:49] Successfully opened dynamic library libcudnn.so.7\n",
      "2022-02-24 12:31:13.734203: I tensorflow/core/common_runtime/gpu/gpu_device.cc:1862] Adding visible gpu devices: 0\n",
      "2022-02-24 12:31:13.735972: I tensorflow/core/platform/cpu_feature_guard.cc:142] This TensorFlow binary is optimized with oneAPI Deep Neural Network Library (oneDNN) to use the following CPU instructions in performance-critical operations:  SSE4.1 SSE4.2 AVX AVX2 AVX512F FMA\n",
      "To enable them in other operations, rebuild TensorFlow with the appropriate compiler flags.\n",
      "2022-02-24 12:31:13.741153: I tensorflow/core/common_runtime/gpu/gpu_device.cc:1720] Found device 0 with properties: \n",
      "pciBusID: 0000:18:00.0 name: Quadro RTX 8000 computeCapability: 7.5\n",
      "coreClock: 1.77GHz coreCount: 72 deviceMemorySize: 47.45GiB deviceMemoryBandwidth: 625.94GiB/s\n",
      "2022-02-24 12:31:13.741203: I tensorflow/stream_executor/platform/default/dso_loader.cc:49] Successfully opened dynamic library libcudart.so.10.1\n",
      "2022-02-24 12:31:13.741243: I tensorflow/stream_executor/platform/default/dso_loader.cc:49] Successfully opened dynamic library libcublas.so.10\n",
      "2022-02-24 12:31:13.741269: I tensorflow/stream_executor/platform/default/dso_loader.cc:49] Successfully opened dynamic library libcublasLt.so.10\n",
      "2022-02-24 12:31:13.741294: I tensorflow/stream_executor/platform/default/dso_loader.cc:49] Successfully opened dynamic library libcufft.so.10\n",
      "2022-02-24 12:31:13.741319: I tensorflow/stream_executor/platform/default/dso_loader.cc:49] Successfully opened dynamic library libcurand.so.10\n",
      "2022-02-24 12:31:13.741344: I tensorflow/stream_executor/platform/default/dso_loader.cc:49] Successfully opened dynamic library libcusolver.so.10\n",
      "2022-02-24 12:31:13.741368: I tensorflow/stream_executor/platform/default/dso_loader.cc:49] Successfully opened dynamic library libcusparse.so.10\n",
      "2022-02-24 12:31:13.741394: I tensorflow/stream_executor/platform/default/dso_loader.cc:49] Successfully opened dynamic library libcudnn.so.7\n",
      "2022-02-24 12:31:13.742172: I tensorflow/core/common_runtime/gpu/gpu_device.cc:1862] Adding visible gpu devices: 0\n",
      "2022-02-24 12:31:13.742497: I tensorflow/stream_executor/platform/default/dso_loader.cc:49] Successfully opened dynamic library libcudart.so.10.1\n",
      "2022-02-24 12:31:14.635690: I tensorflow/core/common_runtime/gpu/gpu_device.cc:1261] Device interconnect StreamExecutor with strength 1 edge matrix:\n",
      "2022-02-24 12:31:14.635726: I tensorflow/core/common_runtime/gpu/gpu_device.cc:1267]      0 \n",
      "2022-02-24 12:31:14.635732: I tensorflow/core/common_runtime/gpu/gpu_device.cc:1280] 0:   N \n",
      "2022-02-24 12:31:14.636632: I tensorflow/core/common_runtime/gpu/gpu_device.cc:1406] Created TensorFlow device (/job:localhost/replica:0/task:0/device:GPU:0 with 45258 MB memory) -> physical GPU (device: 0, name: Quadro RTX 8000, pci bus id: 0000:18:00.0, compute capability: 7.5)\n",
      "2022-02-24 12:31:14.637574: I tensorflow/compiler/jit/xla_gpu_device.cc:99] Not creating XLA devices, tf_xla_enable_xla_devices not set\n"
     ]
    }
   ],
   "source": [
    "from tensorflow.keras.models import Sequential\n",
    "model=Sequential()"
   ]
  },
  {
   "cell_type": "code",
   "execution_count": 3,
   "metadata": {},
   "outputs": [
    {
     "name": "stdout",
     "output_type": "stream",
     "text": [
      "All layers top of pretrained layers are developed\n"
     ]
    }
   ],
   "source": [
    "model.add(Conv2D(input_shape=(224,224,3),filters=64,kernel_size=(3,3),padding=\"same\", activation=\"relu\"))\n",
    "model.add(Conv2D(filters=64,kernel_size=(3,3),padding=\"same\", activation=\"relu\"))\n",
    "model.add(MaxPool2D(pool_size=(2,2),strides=(2,2)))\n",
    "model.add(Conv2D(filters=128, kernel_size=(3,3), padding=\"same\", activation=\"relu\"))\n",
    "model.add(Conv2D(filters=128, kernel_size=(3,3), padding=\"same\", activation=\"relu\"))\n",
    "model.add(MaxPool2D(pool_size=(2,2),strides=(2,2)))\n",
    "model.add(Conv2D(filters=256, kernel_size=(3,3), padding=\"same\", activation=\"relu\"))\n",
    "model.add(Conv2D(filters=256, kernel_size=(3,3), padding=\"same\", activation=\"relu\"))\n",
    "model.add(Conv2D(filters=256, kernel_size=(3,3), padding=\"same\", activation=\"relu\"))\n",
    "model.add(MaxPool2D(pool_size=(2,2),strides=(2,2)))\n",
    "model.add(Conv2D(filters=512, kernel_size=(3,3), padding=\"same\", activation=\"relu\"))\n",
    "model.add(Conv2D(filters=512, kernel_size=(3,3), padding=\"same\", activation=\"relu\"))\n",
    "model.add(Conv2D(filters=512, kernel_size=(3,3), padding=\"same\", activation=\"relu\"))\n",
    "model.add(MaxPool2D(pool_size=(2,2),strides=(2,2)))\n",
    "model.add(Conv2D(filters=512, kernel_size=(3,3), padding=\"same\", activation=\"relu\"))\n",
    "model.add(Conv2D(filters=512, kernel_size=(3,3), padding=\"same\", activation=\"relu\"))\n",
    "model.add(Conv2D(filters=512, kernel_size=(3,3), padding=\"same\", activation=\"relu\"))\n",
    "model.add(MaxPool2D(pool_size=(2,2),strides=(2,2)))\n",
    "model.add(Flatten())\n",
    "model.add(Dense(4096, activation= 'relu'))\n",
    "model.add(Dense(4096, activation= 'relu'))\n",
    "model.add(Dense(1000, activation= 'relu'))\n",
    "hidden_layer=model.add(Dense(128, activation='relu', name='hidden_layer'))\n",
    "classification_layer=model.add(Dense(64, activation='relu', name='classification_layer'))\n",
    "output_layer=model.add(Dense(1, activation='sigmoid', name='output_layer')) \n",
    "print(\"All layers top of pretrained layers are developed\")"
   ]
  },
  {
   "cell_type": "markdown",
   "metadata": {
    "id": "xCoKydhAn-6L"
   },
   "source": [
    "https://www.kaggle.com/blurredmachine/alexnet-architecture-a-complete-guide"
   ]
  },
  {
   "cell_type": "code",
   "execution_count": 5,
   "metadata": {
    "colab": {
     "base_uri": "https://localhost:8080/"
    },
    "id": "TJJplrQeZDKx",
    "outputId": "838d3874-9eaf-4083-c6c9-effb76f3d3dd"
   },
   "outputs": [
    {
     "name": "stdout",
     "output_type": "stream",
     "text": [
      "Input parameters are assigned\n"
     ]
    }
   ],
   "source": [
    "# Input parameter\n",
    "#train_data_dir ='/content/drive/My Drive/Colab Notebooks/Dataset GDPS/train_dir'\n",
    "train_data_dir='/home/poornima/Data/GDPS/train_dir/'\n",
    "val_data_dir ='/home/poornima/Data/GDPS/val_dir/'\n",
    "model_weights_file = '/home/poornima/Data/GDPS/Signature_Verification_GDPS_SGD_Novel-FINAL.hdf5'\n",
    "nb_epochs = 300\n",
    "print(\"Input parameters are assigned\")"
   ]
  },
  {
   "cell_type": "code",
   "execution_count": 6,
   "metadata": {
    "colab": {
     "base_uri": "https://localhost:8080/"
    },
    "id": "13L22j2RZHrq",
    "outputId": "eeb66893-0e2c-42e5-fee2-412689d4ebe3"
   },
   "outputs": [
    {
     "name": "stdout",
     "output_type": "stream",
     "text": [
      "Model is Complied\n"
     ]
    }
   ],
   "source": [
    "model.compile(loss='binary_crossentropy', optimizer='sgd', metrics=['accuracy'])\n",
    "print(\"Model is Complied\")"
   ]
  },
  {
   "cell_type": "code",
   "execution_count": 7,
   "metadata": {
    "colab": {
     "base_uri": "https://localhost:8080/"
    },
    "id": "lNuqzITRZPn8",
    "outputId": "ff47b9e1-ba3b-4d4e-c9fd-beaa4e7fb8b1"
   },
   "outputs": [
    {
     "name": "stdout",
     "output_type": "stream",
     "text": [
      "Found 172800 images belonging to 2 classes.\n",
      "Found 43200 images belonging to 2 classes.\n"
     ]
    }
   ],
   "source": [
    "# image data generation\n",
    "\n",
    "from tensorflow.keras.preprocessing.image import ImageDataGenerator\n",
    "img_width, img_height = 224, 224\n",
    "train_datagen = ImageDataGenerator(rescale=1./255, shear_range=0.2, zoom_range=0.2, horizontal_flip=True)\n",
    "test_datagen = ImageDataGenerator(rescale=1./255)\n",
    "\n",
    "train_generator = train_datagen.flow_from_directory(train_data_dir, target_size=(img_width, img_height), \n",
    "                                                    batch_size=16,shuffle=False, class_mode='binary')\n",
    "validation_generator = test_datagen.flow_from_directory(val_data_dir, target_size=(img_width, img_height), \n",
    "                                                    batch_size=16,shuffle=False,class_mode='binary')"
   ]
  },
  {
   "cell_type": "code",
   "execution_count": null,
   "metadata": {},
   "outputs": [],
   "source": [
    "model.fit(X_train, y_train, epochs=50)\n",
    "print(\"training completed\")"
   ]
  },
  {
   "cell_type": "code",
   "execution_count": 9,
   "metadata": {},
   "outputs": [],
   "source": [
    "from tensorflow.keras.callbacks import Callback, ModelCheckpoint, EarlyStopping\n",
    "filepath = '/home/poornima/Data/GDPS/Signature_Verification_GDPS_SGD_Novel-FINAL-{epoch:02d}-{val_accuracy:.2f}.h5'\n",
    "checkpoint = ModelCheckpoint(filepath, monitor='val_accuracy', verbose=1, save_best_only=True, save_weights_only=False, mode='max')\n",
    "early = EarlyStopping(monitor='val_accuracy', min_delta=0, patience=100, verbose=1, mode='auto')"
   ]
  },
  {
   "cell_type": "code",
   "execution_count": 10,
   "metadata": {},
   "outputs": [
    {
     "name": "stdout",
     "output_type": "stream",
     "text": [
      "Default GPU Device: /device:GPU:0\n"
     ]
    },
    {
     "name": "stderr",
     "output_type": "stream",
     "text": [
      "2022-02-24 12:50:17.944324: I tensorflow/core/common_runtime/gpu/gpu_device.cc:1720] Found device 0 with properties: \n",
      "pciBusID: 0000:18:00.0 name: Quadro RTX 8000 computeCapability: 7.5\n",
      "coreClock: 1.77GHz coreCount: 72 deviceMemorySize: 47.45GiB deviceMemoryBandwidth: 625.94GiB/s\n",
      "2022-02-24 12:50:17.944410: I tensorflow/stream_executor/platform/default/dso_loader.cc:49] Successfully opened dynamic library libcudart.so.10.1\n",
      "2022-02-24 12:50:17.944461: I tensorflow/stream_executor/platform/default/dso_loader.cc:49] Successfully opened dynamic library libcublas.so.10\n",
      "2022-02-24 12:50:17.944482: I tensorflow/stream_executor/platform/default/dso_loader.cc:49] Successfully opened dynamic library libcublasLt.so.10\n",
      "2022-02-24 12:50:17.944504: I tensorflow/stream_executor/platform/default/dso_loader.cc:49] Successfully opened dynamic library libcufft.so.10\n",
      "2022-02-24 12:50:17.944524: I tensorflow/stream_executor/platform/default/dso_loader.cc:49] Successfully opened dynamic library libcurand.so.10\n",
      "2022-02-24 12:50:17.944546: I tensorflow/stream_executor/platform/default/dso_loader.cc:49] Successfully opened dynamic library libcusolver.so.10\n",
      "2022-02-24 12:50:17.944568: I tensorflow/stream_executor/platform/default/dso_loader.cc:49] Successfully opened dynamic library libcusparse.so.10\n",
      "2022-02-24 12:50:17.944591: I tensorflow/stream_executor/platform/default/dso_loader.cc:49] Successfully opened dynamic library libcudnn.so.7\n",
      "2022-02-24 12:50:17.945208: I tensorflow/core/common_runtime/gpu/gpu_device.cc:1862] Adding visible gpu devices: 0\n",
      "2022-02-24 12:50:17.945265: I tensorflow/core/common_runtime/gpu/gpu_device.cc:1261] Device interconnect StreamExecutor with strength 1 edge matrix:\n",
      "2022-02-24 12:50:17.945275: I tensorflow/core/common_runtime/gpu/gpu_device.cc:1267]      0 \n",
      "2022-02-24 12:50:17.945284: I tensorflow/core/common_runtime/gpu/gpu_device.cc:1280] 0:   N \n",
      "2022-02-24 12:50:17.946039: I tensorflow/core/common_runtime/gpu/gpu_device.cc:1406] Created TensorFlow device (/device:GPU:0 with 45258 MB memory) -> physical GPU (device: 0, name: Quadro RTX 8000, pci bus id: 0000:18:00.0, compute capability: 7.5)\n",
      "2022-02-24 12:50:17.946076: I tensorflow/compiler/jit/xla_gpu_device.cc:99] Not creating XLA devices, tf_xla_enable_xla_devices not set\n",
      "2022-02-24 12:50:17.946633: I tensorflow/core/common_runtime/gpu/gpu_device.cc:1720] Found device 0 with properties: \n",
      "pciBusID: 0000:18:00.0 name: Quadro RTX 8000 computeCapability: 7.5\n",
      "coreClock: 1.77GHz coreCount: 72 deviceMemorySize: 47.45GiB deviceMemoryBandwidth: 625.94GiB/s\n",
      "2022-02-24 12:50:17.946668: I tensorflow/stream_executor/platform/default/dso_loader.cc:49] Successfully opened dynamic library libcudart.so.10.1\n",
      "2022-02-24 12:50:17.946702: I tensorflow/stream_executor/platform/default/dso_loader.cc:49] Successfully opened dynamic library libcublas.so.10\n",
      "2022-02-24 12:50:17.946721: I tensorflow/stream_executor/platform/default/dso_loader.cc:49] Successfully opened dynamic library libcublasLt.so.10\n",
      "2022-02-24 12:50:17.946739: I tensorflow/stream_executor/platform/default/dso_loader.cc:49] Successfully opened dynamic library libcufft.so.10\n",
      "2022-02-24 12:50:17.946758: I tensorflow/stream_executor/platform/default/dso_loader.cc:49] Successfully opened dynamic library libcurand.so.10\n",
      "2022-02-24 12:50:17.946777: I tensorflow/stream_executor/platform/default/dso_loader.cc:49] Successfully opened dynamic library libcusolver.so.10\n",
      "2022-02-24 12:50:17.946797: I tensorflow/stream_executor/platform/default/dso_loader.cc:49] Successfully opened dynamic library libcusparse.so.10\n",
      "2022-02-24 12:50:17.946816: I tensorflow/stream_executor/platform/default/dso_loader.cc:49] Successfully opened dynamic library libcudnn.so.7\n",
      "2022-02-24 12:50:17.947403: I tensorflow/core/common_runtime/gpu/gpu_device.cc:1862] Adding visible gpu devices: 0\n",
      "2022-02-24 12:50:17.947435: I tensorflow/core/common_runtime/gpu/gpu_device.cc:1261] Device interconnect StreamExecutor with strength 1 edge matrix:\n",
      "2022-02-24 12:50:17.947446: I tensorflow/core/common_runtime/gpu/gpu_device.cc:1267]      0 \n",
      "2022-02-24 12:50:17.947454: I tensorflow/core/common_runtime/gpu/gpu_device.cc:1280] 0:   N \n",
      "2022-02-24 12:50:17.948087: I tensorflow/core/common_runtime/gpu/gpu_device.cc:1406] Created TensorFlow device (/device:GPU:0 with 45258 MB memory) -> physical GPU (device: 0, name: Quadro RTX 8000, pci bus id: 0000:18:00.0, compute capability: 7.5)\n",
      "2022-02-24 12:50:17.948115: I tensorflow/compiler/jit/xla_gpu_device.cc:99] Not creating XLA devices, tf_xla_enable_xla_devices not set\n"
     ]
    }
   ],
   "source": [
    "import tensorflow as tf\n",
    "if tf.test.gpu_device_name():\n",
    "    print('Default GPU Device: {}'.format(tf.test.gpu_device_name()))\n",
    "else:\n",
    "    print(\"Please install GPU version of TF\")"
   ]
  },
  {
   "cell_type": "code",
   "execution_count": 11,
   "metadata": {
    "colab": {
     "base_uri": "https://localhost:8080/"
    },
    "id": "9A93j5hMZVg_",
    "outputId": "2d0bad13-1476-485a-da35-77c3648057ed"
   },
   "outputs": [
    {
     "name": "stderr",
     "output_type": "stream",
     "text": [
      "2022-02-24 12:50:42.815804: I tensorflow/compiler/mlir/mlir_graph_optimization_pass.cc:116] None of the MLIR optimization passes are enabled (registered 2)\n",
      "2022-02-24 12:50:42.818289: I tensorflow/core/platform/profile_utils/cpu_utils.cc:112] CPU Frequency: 2200000000 Hz\n"
     ]
    },
    {
     "name": "stdout",
     "output_type": "stream",
     "text": [
      "Epoch 1/300\n"
     ]
    },
    {
     "name": "stderr",
     "output_type": "stream",
     "text": [
      "2022-02-24 12:50:43.586050: I tensorflow/stream_executor/platform/default/dso_loader.cc:49] Successfully opened dynamic library libcublas.so.10\n",
      "2022-02-24 12:50:43.884757: I tensorflow/stream_executor/platform/default/dso_loader.cc:49] Successfully opened dynamic library libcudnn.so.7\n",
      "2022-02-24 12:50:45.167902: W tensorflow/stream_executor/gpu/asm_compiler.cc:63] Running ptxas --version returned 256\n",
      "2022-02-24 12:50:45.264674: W tensorflow/stream_executor/gpu/redzone_allocator.cc:314] Internal: ptxas exited with non-zero error code 256, output: \n",
      "Relying on driver to perform ptx compilation. \n",
      "Modify $PATH to customize ptxas location.\n",
      "This message will be only logged once.\n"
     ]
    },
    {
     "name": "stdout",
     "output_type": "stream",
     "text": [
      "10800/10800 [==============================] - 2117s 193ms/step - loss: 0.6879 - accuracy: 0.5503 - val_loss: 0.6875 - val_accuracy: 0.5556\n",
      "\n",
      "Epoch 00001: val_accuracy improved from -inf to 0.55556, saving model to /home/poornima/Data/GDPS/Signature_Verification_GDPS_SGD_Novel-FINAL-01-0.56.h5\n",
      "Epoch 2/300\n",
      "10800/10800 [==============================] - 2071s 192ms/step - loss: 0.6886 - accuracy: 0.5515 - val_loss: 0.6882 - val_accuracy: 0.5556\n",
      "\n",
      "Epoch 00002: val_accuracy did not improve from 0.55556\n",
      "Epoch 3/300\n",
      "10800/10800 [==============================] - 2070s 192ms/step - loss: 0.6883 - accuracy: 0.5457 - val_loss: 0.6869 - val_accuracy: 0.5556\n",
      "\n",
      "Epoch 00003: val_accuracy did not improve from 0.55556\n",
      "Epoch 4/300\n",
      "10800/10800 [==============================] - 2061s 191ms/step - loss: 0.6869 - accuracy: 0.5589 - val_loss: 0.6871 - val_accuracy: 0.5556\n",
      "\n",
      "Epoch 00004: val_accuracy did not improve from 0.55556\n",
      "Epoch 5/300\n",
      "10800/10800 [==============================] - 2073s 192ms/step - loss: 0.6883 - accuracy: 0.5528 - val_loss: 0.6871 - val_accuracy: 0.5556\n",
      "\n",
      "Epoch 00005: val_accuracy did not improve from 0.55556\n",
      "Epoch 6/300\n",
      "10800/10800 [==============================] - 2075s 192ms/step - loss: 0.6872 - accuracy: 0.5582 - val_loss: 0.6876 - val_accuracy: 0.5556\n",
      "\n",
      "Epoch 00006: val_accuracy did not improve from 0.55556\n",
      "Epoch 7/300\n",
      "10800/10800 [==============================] - 2071s 192ms/step - loss: 0.6881 - accuracy: 0.5541 - val_loss: 0.6886 - val_accuracy: 0.5556\n",
      "\n",
      "Epoch 00007: val_accuracy did not improve from 0.55556\n",
      "Epoch 8/300\n",
      "10800/10800 [==============================] - 2071s 192ms/step - loss: 0.6881 - accuracy: 0.5537 - val_loss: 0.6875 - val_accuracy: 0.5556\n",
      "\n",
      "Epoch 00008: val_accuracy did not improve from 0.55556\n",
      "Epoch 9/300\n",
      "10800/10800 [==============================] - 2055s 190ms/step - loss: 0.6879 - accuracy: 0.5541 - val_loss: 0.6873 - val_accuracy: 0.5556\n",
      "\n",
      "Epoch 00009: val_accuracy did not improve from 0.55556\n",
      "Epoch 10/300\n",
      "10800/10800 [==============================] - 2070s 192ms/step - loss: 0.6876 - accuracy: 0.5565 - val_loss: 0.6871 - val_accuracy: 0.5556\n",
      "\n",
      "Epoch 00010: val_accuracy did not improve from 0.55556\n",
      "Epoch 11/300\n",
      "10800/10800 [==============================] - 2072s 192ms/step - loss: 0.6875 - accuracy: 0.5564 - val_loss: 0.6872 - val_accuracy: 0.5556\n",
      "\n",
      "Epoch 00011: val_accuracy did not improve from 0.55556\n",
      "Epoch 12/300\n",
      "10800/10800 [==============================] - 2068s 191ms/step - loss: 0.6881 - accuracy: 0.5542 - val_loss: 0.6870 - val_accuracy: 0.5556\n",
      "\n",
      "Epoch 00012: val_accuracy did not improve from 0.55556\n",
      "Epoch 13/300\n",
      "10800/10800 [==============================] - 2061s 191ms/step - loss: 0.6886 - accuracy: 0.5495 - val_loss: 0.6870 - val_accuracy: 0.5556\n",
      "\n",
      "Epoch 00013: val_accuracy did not improve from 0.55556\n",
      "Epoch 14/300\n",
      "10800/10800 [==============================] - 2067s 191ms/step - loss: 0.6869 - accuracy: 0.5587 - val_loss: 0.6875 - val_accuracy: 0.5556\n",
      "\n",
      "Epoch 00014: val_accuracy did not improve from 0.55556\n",
      "Epoch 15/300\n",
      "10800/10800 [==============================] - 2064s 191ms/step - loss: 0.6890 - accuracy: 0.5490 - val_loss: 0.6869 - val_accuracy: 0.5556\n",
      "\n",
      "Epoch 00015: val_accuracy did not improve from 0.55556\n",
      "Epoch 16/300\n",
      "10800/10800 [==============================] - 2075s 192ms/step - loss: 0.6868 - accuracy: 0.5599 - val_loss: 0.6871 - val_accuracy: 0.5556\n",
      "\n",
      "Epoch 00016: val_accuracy did not improve from 0.55556\n",
      "Epoch 17/300\n",
      "10800/10800 [==============================] - 2072s 192ms/step - loss: 0.6880 - accuracy: 0.5547 - val_loss: 0.6871 - val_accuracy: 0.5556\n",
      "\n",
      "Epoch 00017: val_accuracy did not improve from 0.55556\n",
      "Epoch 18/300\n",
      "10800/10800 [==============================] - 2067s 191ms/step - loss: 0.6888 - accuracy: 0.5511 - val_loss: 0.6870 - val_accuracy: 0.5556\n",
      "\n",
      "Epoch 00018: val_accuracy did not improve from 0.55556\n",
      "Epoch 19/300\n",
      "10800/10800 [==============================] - 2071s 192ms/step - loss: 0.6877 - accuracy: 0.5558 - val_loss: 0.6877 - val_accuracy: 0.5556\n",
      "\n",
      "Epoch 00019: val_accuracy did not improve from 0.55556\n",
      "Epoch 20/300\n",
      "10800/10800 [==============================] - 2060s 191ms/step - loss: 0.6860 - accuracy: 0.5614 - val_loss: 0.6897 - val_accuracy: 0.5556\n",
      "\n",
      "Epoch 00020: val_accuracy did not improve from 0.55556\n",
      "Epoch 21/300\n",
      "10800/10800 [==============================] - 2065s 191ms/step - loss: 0.6882 - accuracy: 0.5536 - val_loss: 0.6880 - val_accuracy: 0.5556\n",
      "\n",
      "Epoch 00021: val_accuracy did not improve from 0.55556\n",
      "Epoch 22/300\n",
      "10800/10800 [==============================] - 2075s 192ms/step - loss: 0.6870 - accuracy: 0.5586 - val_loss: 0.6870 - val_accuracy: 0.5556\n",
      "\n",
      "Epoch 00022: val_accuracy did not improve from 0.55556\n",
      "Epoch 23/300\n",
      "10800/10800 [==============================] - 2065s 191ms/step - loss: 0.6864 - accuracy: 0.5605 - val_loss: 0.6870 - val_accuracy: 0.5556\n",
      "\n",
      "Epoch 00023: val_accuracy did not improve from 0.55556\n",
      "Epoch 24/300\n",
      "10800/10800 [==============================] - 2064s 191ms/step - loss: 0.6881 - accuracy: 0.5544 - val_loss: 0.6870 - val_accuracy: 0.5556\n",
      "\n",
      "Epoch 00024: val_accuracy did not improve from 0.55556\n",
      "Epoch 25/300\n",
      "10800/10800 [==============================] - 2084s 193ms/step - loss: 0.6860 - accuracy: 0.5608 - val_loss: 0.6876 - val_accuracy: 0.5556\n",
      "\n",
      "Epoch 00025: val_accuracy did not improve from 0.55556\n",
      "Epoch 26/300\n",
      "10800/10800 [==============================] - 2068s 191ms/step - loss: 0.6874 - accuracy: 0.5566 - val_loss: 0.6870 - val_accuracy: 0.5556\n",
      "\n",
      "Epoch 00026: val_accuracy did not improve from 0.55556\n",
      "Epoch 27/300\n",
      "10800/10800 [==============================] - 2067s 191ms/step - loss: 0.6878 - accuracy: 0.5557 - val_loss: 0.6910 - val_accuracy: 0.5556\n",
      "\n",
      "Epoch 00027: val_accuracy did not improve from 0.55556\n",
      "Epoch 28/300\n",
      "10800/10800 [==============================] - 2069s 192ms/step - loss: 0.6887 - accuracy: 0.5508 - val_loss: 0.6870 - val_accuracy: 0.5556\n",
      "\n",
      "Epoch 00028: val_accuracy did not improve from 0.55556\n",
      "Epoch 29/300\n",
      "10800/10800 [==============================] - 2065s 191ms/step - loss: 0.6885 - accuracy: 0.5514 - val_loss: 0.6872 - val_accuracy: 0.5556\n",
      "\n",
      "Epoch 00029: val_accuracy did not improve from 0.55556\n",
      "Epoch 30/300\n",
      "10800/10800 [==============================] - 2065s 191ms/step - loss: 0.6881 - accuracy: 0.5546 - val_loss: 0.6870 - val_accuracy: 0.5556\n",
      "\n",
      "Epoch 00030: val_accuracy did not improve from 0.55556\n",
      "Epoch 31/300\n",
      "10800/10800 [==============================] - 2070s 192ms/step - loss: 0.6872 - accuracy: 0.5582 - val_loss: 0.6881 - val_accuracy: 0.5556\n",
      "\n",
      "Epoch 00031: val_accuracy did not improve from 0.55556\n",
      "Epoch 32/300\n",
      "10800/10800 [==============================] - 2072s 192ms/step - loss: 0.6872 - accuracy: 0.5596 - val_loss: 0.6869 - val_accuracy: 0.5556\n",
      "\n",
      "Epoch 00032: val_accuracy did not improve from 0.55556\n",
      "Epoch 33/300\n",
      "10800/10800 [==============================] - 2069s 192ms/step - loss: 0.6869 - accuracy: 0.5594 - val_loss: 0.6873 - val_accuracy: 0.5556\n",
      "\n",
      "Epoch 00033: val_accuracy did not improve from 0.55556\n",
      "Epoch 34/300\n",
      "10800/10800 [==============================] - 2064s 191ms/step - loss: 0.6902 - accuracy: 0.5415 - val_loss: 0.6891 - val_accuracy: 0.5556\n",
      "\n",
      "Epoch 00034: val_accuracy did not improve from 0.55556\n",
      "Epoch 35/300\n",
      "10800/10800 [==============================] - 2067s 191ms/step - loss: 0.6862 - accuracy: 0.5597 - val_loss: 0.6874 - val_accuracy: 0.5556\n",
      "\n",
      "Epoch 00035: val_accuracy did not improve from 0.55556\n",
      "Epoch 36/300\n",
      "10800/10800 [==============================] - 2068s 191ms/step - loss: 0.6871 - accuracy: 0.5565 - val_loss: 0.6877 - val_accuracy: 0.5556\n",
      "\n",
      "Epoch 00036: val_accuracy did not improve from 0.55556\n",
      "Epoch 37/300\n",
      "10800/10800 [==============================] - 2072s 192ms/step - loss: 0.6895 - accuracy: 0.5473 - val_loss: 0.6876 - val_accuracy: 0.5556\n",
      "\n",
      "Epoch 00037: val_accuracy did not improve from 0.55556\n",
      "Epoch 38/300\n",
      "10800/10800 [==============================] - 2072s 192ms/step - loss: 0.6898 - accuracy: 0.5462 - val_loss: 0.6879 - val_accuracy: 0.5556\n",
      "\n",
      "Epoch 00038: val_accuracy did not improve from 0.55556\n",
      "Epoch 39/300\n",
      "10800/10800 [==============================] - 2073s 192ms/step - loss: 0.6862 - accuracy: 0.5611 - val_loss: 0.6873 - val_accuracy: 0.5556\n",
      "\n",
      "Epoch 00039: val_accuracy did not improve from 0.55556\n",
      "Epoch 40/300\n"
     ]
    },
    {
     "name": "stdout",
     "output_type": "stream",
     "text": [
      "10800/10800 [==============================] - 2069s 192ms/step - loss: 0.6894 - accuracy: 0.5480 - val_loss: 0.6873 - val_accuracy: 0.5556\n",
      "\n",
      "Epoch 00040: val_accuracy did not improve from 0.55556\n",
      "Epoch 41/300\n",
      "10800/10800 [==============================] - 2066s 191ms/step - loss: 0.6900 - accuracy: 0.5428 - val_loss: 0.6856 - val_accuracy: 0.5556\n",
      "\n",
      "Epoch 00041: val_accuracy did not improve from 0.55556\n",
      "Epoch 42/300\n",
      "10800/10800 [==============================] - 2075s 192ms/step - loss: 0.6864 - accuracy: 0.5513 - val_loss: 0.6771 - val_accuracy: 0.5620\n",
      "\n",
      "Epoch 00042: val_accuracy improved from 0.55556 to 0.56204, saving model to /home/poornima/Data/GDPS/Signature_Verification_GDPS_SGD_Novel-FINAL-42-0.56.h5\n",
      "Epoch 43/300\n",
      "10800/10800 [==============================] - 2065s 191ms/step - loss: 0.6731 - accuracy: 0.5759 - val_loss: 0.6544 - val_accuracy: 0.6001\n",
      "\n",
      "Epoch 00043: val_accuracy improved from 0.56204 to 0.60007, saving model to /home/poornima/Data/GDPS/Signature_Verification_GDPS_SGD_Novel-FINAL-43-0.60.h5\n",
      "Epoch 44/300\n",
      "10800/10800 [==============================] - 2067s 191ms/step - loss: 0.6565 - accuracy: 0.6073 - val_loss: 0.6485 - val_accuracy: 0.6230\n",
      "\n",
      "Epoch 00044: val_accuracy improved from 0.60007 to 0.62299, saving model to /home/poornima/Data/GDPS/Signature_Verification_GDPS_SGD_Novel-FINAL-44-0.62.h5\n",
      "Epoch 45/300\n",
      "10800/10800 [==============================] - 2071s 192ms/step - loss: 0.6520 - accuracy: 0.6100 - val_loss: 0.6418 - val_accuracy: 0.6305\n",
      "\n",
      "Epoch 00045: val_accuracy improved from 0.62299 to 0.63046, saving model to /home/poornima/Data/GDPS/Signature_Verification_GDPS_SGD_Novel-FINAL-45-0.63.h5\n",
      "Epoch 46/300\n",
      "10800/10800 [==============================] - 2076s 192ms/step - loss: 0.6458 - accuracy: 0.6200 - val_loss: 0.6509 - val_accuracy: 0.6068\n",
      "\n",
      "Epoch 00046: val_accuracy did not improve from 0.63046\n",
      "Epoch 47/300\n",
      "10800/10800 [==============================] - 2070s 192ms/step - loss: 0.6437 - accuracy: 0.6235 - val_loss: 0.6311 - val_accuracy: 0.6408\n",
      "\n",
      "Epoch 00047: val_accuracy improved from 0.63046 to 0.64079, saving model to /home/poornima/Data/GDPS/Signature_Verification_GDPS_SGD_Novel-FINAL-47-0.64.h5\n",
      "Epoch 48/300\n",
      "10800/10800 [==============================] - 2066s 191ms/step - loss: 0.6415 - accuracy: 0.6229 - val_loss: 0.6338 - val_accuracy: 0.6314\n",
      "\n",
      "Epoch 00048: val_accuracy did not improve from 0.64079\n",
      "Epoch 49/300\n",
      "10800/10800 [==============================] - 2065s 191ms/step - loss: 0.6335 - accuracy: 0.6319 - val_loss: 0.6314 - val_accuracy: 0.6384\n",
      "\n",
      "Epoch 00049: val_accuracy did not improve from 0.64079\n",
      "Epoch 50/300\n",
      "10800/10800 [==============================] - 2074s 192ms/step - loss: 0.6366 - accuracy: 0.6284 - val_loss: 0.6265 - val_accuracy: 0.6436\n",
      "\n",
      "Epoch 00050: val_accuracy improved from 0.64079 to 0.64356, saving model to /home/poornima/Data/GDPS/Signature_Verification_GDPS_SGD_Novel-FINAL-50-0.64.h5\n",
      "Epoch 51/300\n",
      "10800/10800 [==============================] - 2067s 191ms/step - loss: 0.6318 - accuracy: 0.6329 - val_loss: 0.6525 - val_accuracy: 0.6096\n",
      "\n",
      "Epoch 00051: val_accuracy did not improve from 0.64356\n",
      "Epoch 52/300\n",
      "10800/10800 [==============================] - 2069s 192ms/step - loss: 0.6195 - accuracy: 0.6461 - val_loss: 0.6237 - val_accuracy: 0.6411\n",
      "\n",
      "Epoch 00052: val_accuracy did not improve from 0.64356\n",
      "Epoch 53/300\n",
      "10800/10800 [==============================] - 2061s 191ms/step - loss: 0.6209 - accuracy: 0.6446 - val_loss: 0.6234 - val_accuracy: 0.6473\n",
      "\n",
      "Epoch 00053: val_accuracy improved from 0.64356 to 0.64731, saving model to /home/poornima/Data/GDPS/Signature_Verification_GDPS_SGD_Novel-FINAL-53-0.65.h5\n",
      "Epoch 54/300\n",
      "10800/10800 [==============================] - 2071s 192ms/step - loss: 0.6181 - accuracy: 0.6478 - val_loss: 0.6253 - val_accuracy: 0.6399\n",
      "\n",
      "Epoch 00054: val_accuracy did not improve from 0.64731\n",
      "Epoch 55/300\n",
      "10800/10800 [==============================] - 2067s 191ms/step - loss: 0.6113 - accuracy: 0.6546 - val_loss: 0.6222 - val_accuracy: 0.6530\n",
      "\n",
      "Epoch 00055: val_accuracy improved from 0.64731 to 0.65303, saving model to /home/poornima/Data/GDPS/Signature_Verification_GDPS_SGD_Novel-FINAL-55-0.65.h5\n",
      "Epoch 56/300\n",
      "10800/10800 [==============================] - 2062s 191ms/step - loss: 0.6088 - accuracy: 0.6580 - val_loss: 0.6280 - val_accuracy: 0.6406\n",
      "\n",
      "Epoch 00056: val_accuracy did not improve from 0.65303\n",
      "Epoch 57/300\n",
      "10800/10800 [==============================] - 2068s 191ms/step - loss: 0.5971 - accuracy: 0.6690 - val_loss: 0.6227 - val_accuracy: 0.6427\n",
      "\n",
      "Epoch 00057: val_accuracy did not improve from 0.65303\n",
      "Epoch 58/300\n",
      "10800/10800 [==============================] - 2070s 192ms/step - loss: 0.5971 - accuracy: 0.6682 - val_loss: 0.6220 - val_accuracy: 0.6465\n",
      "\n",
      "Epoch 00058: val_accuracy did not improve from 0.65303\n",
      "Epoch 59/300\n",
      "10800/10800 [==============================] - 2060s 191ms/step - loss: 0.5911 - accuracy: 0.6730 - val_loss: 0.6181 - val_accuracy: 0.6491\n",
      "\n",
      "Epoch 00059: val_accuracy did not improve from 0.65303\n",
      "Epoch 60/300\n",
      "10800/10800 [==============================] - 2059s 191ms/step - loss: 0.5840 - accuracy: 0.6813 - val_loss: 0.6250 - val_accuracy: 0.6518\n",
      "\n",
      "Epoch 00060: val_accuracy did not improve from 0.65303\n",
      "Epoch 61/300\n",
      "10800/10800 [==============================] - 2069s 192ms/step - loss: 0.5777 - accuracy: 0.6866 - val_loss: 0.6300 - val_accuracy: 0.6478\n",
      "\n",
      "Epoch 00061: val_accuracy did not improve from 0.65303\n",
      "Epoch 62/300\n",
      "10800/10800 [==============================] - 2066s 191ms/step - loss: 0.5690 - accuracy: 0.6931 - val_loss: 0.6274 - val_accuracy: 0.6450\n",
      "\n",
      "Epoch 00062: val_accuracy did not improve from 0.65303\n",
      "Epoch 63/300\n",
      "10800/10800 [==============================] - 2066s 191ms/step - loss: 0.5571 - accuracy: 0.7059 - val_loss: 0.6209 - val_accuracy: 0.6570\n",
      "\n",
      "Epoch 00063: val_accuracy improved from 0.65303 to 0.65701, saving model to /home/poornima/Data/GDPS/Signature_Verification_GDPS_SGD_Novel-FINAL-63-0.66.h5\n",
      "Epoch 64/300\n",
      "10800/10800 [==============================] - 2074s 192ms/step - loss: 0.5459 - accuracy: 0.7131 - val_loss: 0.6430 - val_accuracy: 0.6506\n",
      "\n",
      "Epoch 00064: val_accuracy did not improve from 0.65701\n",
      "Epoch 65/300\n",
      "10800/10800 [==============================] - 2063s 191ms/step - loss: 0.5353 - accuracy: 0.7234 - val_loss: 0.6595 - val_accuracy: 0.6460\n",
      "\n",
      "Epoch 00065: val_accuracy did not improve from 0.65701\n",
      "Epoch 66/300\n",
      "10800/10800 [==============================] - 2074s 192ms/step - loss: 0.5266 - accuracy: 0.7292 - val_loss: 0.6482 - val_accuracy: 0.6468\n",
      "\n",
      "Epoch 00066: val_accuracy did not improve from 0.65701\n",
      "Epoch 67/300\n",
      "10800/10800 [==============================] - 2070s 192ms/step - loss: 0.5087 - accuracy: 0.7422 - val_loss: 0.6524 - val_accuracy: 0.6456\n",
      "\n",
      "Epoch 00067: val_accuracy did not improve from 0.65701\n",
      "Epoch 68/300\n",
      "10800/10800 [==============================] - 2074s 192ms/step - loss: 0.4927 - accuracy: 0.7557 - val_loss: 0.6642 - val_accuracy: 0.6431\n",
      "\n",
      "Epoch 00068: val_accuracy did not improve from 0.65701\n",
      "Epoch 69/300\n",
      "10800/10800 [==============================] - 2066s 191ms/step - loss: 0.4764 - accuracy: 0.7666 - val_loss: 0.6831 - val_accuracy: 0.6448\n",
      "\n",
      "Epoch 00069: val_accuracy did not improve from 0.65701\n",
      "Epoch 70/300\n",
      "10800/10800 [==============================] - 2069s 192ms/step - loss: 0.4568 - accuracy: 0.7783 - val_loss: 0.7042 - val_accuracy: 0.6391\n",
      "\n",
      "Epoch 00070: val_accuracy did not improve from 0.65701\n",
      "Epoch 71/300\n",
      "10800/10800 [==============================] - 2064s 191ms/step - loss: 0.4418 - accuracy: 0.7887 - val_loss: 0.6941 - val_accuracy: 0.6346\n",
      "\n",
      "Epoch 00071: val_accuracy did not improve from 0.65701\n",
      "Epoch 72/300\n",
      "10800/10800 [==============================] - 2074s 192ms/step - loss: 0.4220 - accuracy: 0.7999 - val_loss: 0.7046 - val_accuracy: 0.6417\n",
      "\n",
      "Epoch 00072: val_accuracy did not improve from 0.65701\n",
      "Epoch 73/300\n",
      "10800/10800 [==============================] - 2080s 193ms/step - loss: 0.3937 - accuracy: 0.8183 - val_loss: 0.8101 - val_accuracy: 0.6318\n",
      "\n",
      "Epoch 00073: val_accuracy did not improve from 0.65701\n",
      "Epoch 74/300\n",
      "10800/10800 [==============================] - 2073s 192ms/step - loss: 0.3732 - accuracy: 0.8304 - val_loss: 0.8398 - val_accuracy: 0.6222\n",
      "\n",
      "Epoch 00074: val_accuracy did not improve from 0.65701\n",
      "Epoch 75/300\n"
     ]
    },
    {
     "name": "stdout",
     "output_type": "stream",
     "text": [
      "10800/10800 [==============================] - 2066s 191ms/step - loss: 0.3563 - accuracy: 0.8417 - val_loss: 0.8203 - val_accuracy: 0.6342\n",
      "\n",
      "Epoch 00075: val_accuracy did not improve from 0.65701\n",
      "Epoch 76/300\n",
      "10800/10800 [==============================] - 2071s 192ms/step - loss: 0.3296 - accuracy: 0.8537 - val_loss: 0.8941 - val_accuracy: 0.6342\n",
      "\n",
      "Epoch 00076: val_accuracy did not improve from 0.65701\n",
      "Epoch 77/300\n",
      "10800/10800 [==============================] - 2063s 191ms/step - loss: 0.3069 - accuracy: 0.8667 - val_loss: 0.9057 - val_accuracy: 0.6349\n",
      "\n",
      "Epoch 00077: val_accuracy did not improve from 0.65701\n",
      "Epoch 78/300\n",
      "10800/10800 [==============================] - 2063s 191ms/step - loss: 0.2873 - accuracy: 0.8776 - val_loss: 0.9705 - val_accuracy: 0.6272\n",
      "\n",
      "Epoch 00078: val_accuracy did not improve from 0.65701\n",
      "Epoch 79/300\n",
      "10800/10800 [==============================] - 2063s 191ms/step - loss: 0.2642 - accuracy: 0.8882 - val_loss: 1.0842 - val_accuracy: 0.6206\n",
      "\n",
      "Epoch 00079: val_accuracy did not improve from 0.65701\n",
      "Epoch 80/300\n",
      "10800/10800 [==============================] - 2072s 192ms/step - loss: 0.2442 - accuracy: 0.8991 - val_loss: 0.9954 - val_accuracy: 0.6194\n",
      "\n",
      "Epoch 00080: val_accuracy did not improve from 0.65701\n",
      "Epoch 81/300\n",
      "10800/10800 [==============================] - 2070s 192ms/step - loss: 0.2271 - accuracy: 0.9062 - val_loss: 1.0812 - val_accuracy: 0.6259\n",
      "\n",
      "Epoch 00081: val_accuracy did not improve from 0.65701\n",
      "Epoch 82/300\n",
      "10800/10800 [==============================] - 2068s 191ms/step - loss: 0.2088 - accuracy: 0.9154 - val_loss: 1.0565 - val_accuracy: 0.6272\n",
      "\n",
      "Epoch 00082: val_accuracy did not improve from 0.65701\n",
      "Epoch 83/300\n",
      "10800/10800 [==============================] - 2081s 193ms/step - loss: 0.1887 - accuracy: 0.9236 - val_loss: 1.1491 - val_accuracy: 0.6233\n",
      "\n",
      "Epoch 00083: val_accuracy did not improve from 0.65701\n",
      "Epoch 84/300\n",
      "10800/10800 [==============================] - 2067s 191ms/step - loss: 0.1787 - accuracy: 0.9293 - val_loss: 1.1513 - val_accuracy: 0.6311\n",
      "\n",
      "Epoch 00084: val_accuracy did not improve from 0.65701\n",
      "Epoch 85/300\n",
      "10800/10800 [==============================] - 2072s 192ms/step - loss: 0.1667 - accuracy: 0.9337 - val_loss: 1.2814 - val_accuracy: 0.6201\n",
      "\n",
      "Epoch 00085: val_accuracy did not improve from 0.65701\n",
      "Epoch 86/300\n",
      "10800/10800 [==============================] - 2075s 192ms/step - loss: 0.1522 - accuracy: 0.9399 - val_loss: 1.2293 - val_accuracy: 0.6170\n",
      "\n",
      "Epoch 00086: val_accuracy did not improve from 0.65701\n",
      "Epoch 87/300\n",
      "10800/10800 [==============================] - 2062s 191ms/step - loss: 0.1397 - accuracy: 0.9454 - val_loss: 1.2983 - val_accuracy: 0.6216\n",
      "\n",
      "Epoch 00087: val_accuracy did not improve from 0.65701\n",
      "Epoch 88/300\n",
      "10800/10800 [==============================] - 2058s 191ms/step - loss: 0.1292 - accuracy: 0.9495 - val_loss: 1.2712 - val_accuracy: 0.6240\n",
      "\n",
      "Epoch 00088: val_accuracy did not improve from 0.65701\n",
      "Epoch 89/300\n",
      "10800/10800 [==============================] - 2067s 191ms/step - loss: 0.1228 - accuracy: 0.9525 - val_loss: 1.4899 - val_accuracy: 0.6189\n",
      "\n",
      "Epoch 00089: val_accuracy did not improve from 0.65701\n",
      "Epoch 90/300\n",
      "10800/10800 [==============================] - 2081s 193ms/step - loss: 0.1152 - accuracy: 0.9567 - val_loss: 1.3732 - val_accuracy: 0.6236\n",
      "\n",
      "Epoch 00090: val_accuracy did not improve from 0.65701\n",
      "Epoch 91/300\n",
      "10800/10800 [==============================] - 2069s 192ms/step - loss: 0.1044 - accuracy: 0.9599 - val_loss: 1.5558 - val_accuracy: 0.6242\n",
      "\n",
      "Epoch 00091: val_accuracy did not improve from 0.65701\n",
      "Epoch 92/300\n",
      "10800/10800 [==============================] - 2069s 192ms/step - loss: 0.0962 - accuracy: 0.9631 - val_loss: 1.5161 - val_accuracy: 0.6211\n",
      "\n",
      "Epoch 00092: val_accuracy did not improve from 0.65701\n",
      "Epoch 93/300\n",
      "10800/10800 [==============================] - 2064s 191ms/step - loss: 0.0919 - accuracy: 0.9657 - val_loss: 1.5418 - val_accuracy: 0.6272\n",
      "\n",
      "Epoch 00093: val_accuracy did not improve from 0.65701\n",
      "Epoch 94/300\n",
      "10800/10800 [==============================] - 2064s 191ms/step - loss: 0.0851 - accuracy: 0.9679 - val_loss: 1.5667 - val_accuracy: 0.6293\n",
      "\n",
      "Epoch 00094: val_accuracy did not improve from 0.65701\n",
      "Epoch 95/300\n",
      "10800/10800 [==============================] - 2065s 191ms/step - loss: 0.0792 - accuracy: 0.9710 - val_loss: 1.6263 - val_accuracy: 0.6287\n",
      "\n",
      "Epoch 00095: val_accuracy did not improve from 0.65701\n",
      "Epoch 96/300\n",
      "10800/10800 [==============================] - 2064s 191ms/step - loss: 0.0740 - accuracy: 0.9723 - val_loss: 1.6396 - val_accuracy: 0.6217\n",
      "\n",
      "Epoch 00096: val_accuracy did not improve from 0.65701\n",
      "Epoch 97/300\n",
      "10800/10800 [==============================] - 2069s 192ms/step - loss: 0.0702 - accuracy: 0.9739 - val_loss: 1.6656 - val_accuracy: 0.6265\n",
      "\n",
      "Epoch 00097: val_accuracy did not improve from 0.65701\n",
      "Epoch 98/300\n",
      "10800/10800 [==============================] - 2066s 191ms/step - loss: 0.0678 - accuracy: 0.9751 - val_loss: 1.8070 - val_accuracy: 0.6212\n",
      "\n",
      "Epoch 00098: val_accuracy did not improve from 0.65701\n",
      "Epoch 99/300\n",
      "10800/10800 [==============================] - 2063s 191ms/step - loss: 0.0639 - accuracy: 0.9773 - val_loss: 1.7537 - val_accuracy: 0.6188\n",
      "\n",
      "Epoch 00099: val_accuracy did not improve from 0.65701\n",
      "Epoch 100/300\n",
      "10800/10800 [==============================] - 2072s 192ms/step - loss: 0.0597 - accuracy: 0.9781 - val_loss: 1.8181 - val_accuracy: 0.6215\n",
      "\n",
      "Epoch 00100: val_accuracy did not improve from 0.65701\n",
      "Epoch 101/300\n",
      "10800/10800 [==============================] - 2061s 191ms/step - loss: 0.0567 - accuracy: 0.9792 - val_loss: 1.6800 - val_accuracy: 0.6230\n",
      "\n",
      "Epoch 00101: val_accuracy did not improve from 0.65701\n",
      "Epoch 102/300\n",
      "10800/10800 [==============================] - 2066s 191ms/step - loss: 0.0562 - accuracy: 0.9795 - val_loss: 1.9333 - val_accuracy: 0.6241\n",
      "\n",
      "Epoch 00102: val_accuracy did not improve from 0.65701\n",
      "Epoch 103/300\n",
      "10800/10800 [==============================] - 2068s 191ms/step - loss: 0.0529 - accuracy: 0.9812 - val_loss: 1.8685 - val_accuracy: 0.6254\n",
      "\n",
      "Epoch 00103: val_accuracy did not improve from 0.65701\n",
      "Epoch 104/300\n",
      "10800/10800 [==============================] - 2059s 191ms/step - loss: 0.0505 - accuracy: 0.9817 - val_loss: 1.8784 - val_accuracy: 0.6230\n",
      "\n",
      "Epoch 00104: val_accuracy did not improve from 0.65701\n",
      "Epoch 105/300\n",
      "10800/10800 [==============================] - 2064s 191ms/step - loss: 0.0460 - accuracy: 0.9835 - val_loss: 1.8598 - val_accuracy: 0.6215\n",
      "\n",
      "Epoch 00105: val_accuracy did not improve from 0.65701\n",
      "Epoch 106/300\n",
      "10800/10800 [==============================] - 2060s 191ms/step - loss: 0.0454 - accuracy: 0.9834 - val_loss: 1.8984 - val_accuracy: 0.6244\n",
      "\n",
      "Epoch 00106: val_accuracy did not improve from 0.65701\n",
      "Epoch 107/300\n",
      "10800/10800 [==============================] - 2066s 191ms/step - loss: 0.0415 - accuracy: 0.9855 - val_loss: 1.9018 - val_accuracy: 0.6272\n",
      "\n",
      "Epoch 00107: val_accuracy did not improve from 0.65701\n",
      "Epoch 108/300\n",
      "10800/10800 [==============================] - 2062s 191ms/step - loss: 0.0392 - accuracy: 0.9859 - val_loss: 1.9963 - val_accuracy: 0.6268\n",
      "\n",
      "Epoch 00108: val_accuracy did not improve from 0.65701\n",
      "Epoch 109/300\n",
      "10800/10800 [==============================] - 2069s 192ms/step - loss: 0.0407 - accuracy: 0.9856 - val_loss: 1.8990 - val_accuracy: 0.6288\n",
      "\n",
      "Epoch 00109: val_accuracy did not improve from 0.65701\n",
      "Epoch 110/300\n",
      "10800/10800 [==============================] - 2073s 192ms/step - loss: 0.0362 - accuracy: 0.9868 - val_loss: 2.0843 - val_accuracy: 0.6201\n",
      "\n",
      "Epoch 00110: val_accuracy did not improve from 0.65701\n",
      "Epoch 111/300\n",
      "10800/10800 [==============================] - 2070s 192ms/step - loss: 0.0368 - accuracy: 0.9868 - val_loss: 1.9586 - val_accuracy: 0.6213\n",
      "\n",
      "Epoch 00111: val_accuracy did not improve from 0.65701\n",
      "Epoch 112/300\n",
      "10800/10800 [==============================] - 2074s 192ms/step - loss: 0.0341 - accuracy: 0.9880 - val_loss: 1.9565 - val_accuracy: 0.6240\n",
      "\n",
      "Epoch 00112: val_accuracy did not improve from 0.65701\n",
      "Epoch 113/300\n",
      "10800/10800 [==============================] - 2069s 192ms/step - loss: 0.0326 - accuracy: 0.9888 - val_loss: 2.2047 - val_accuracy: 0.6199\n",
      "\n",
      "Epoch 00113: val_accuracy did not improve from 0.65701\n",
      "Epoch 114/300\n",
      "10800/10800 [==============================] - 2068s 191ms/step - loss: 0.0333 - accuracy: 0.9881 - val_loss: 2.0439 - val_accuracy: 0.6250\n",
      "\n",
      "Epoch 00114: val_accuracy did not improve from 0.65701\n",
      "Epoch 115/300\n",
      "10800/10800 [==============================] - 2062s 191ms/step - loss: 0.0315 - accuracy: 0.9890 - val_loss: 2.1369 - val_accuracy: 0.6284\n",
      "\n",
      "Epoch 00115: val_accuracy did not improve from 0.65701\n",
      "Epoch 116/300\n",
      "10800/10800 [==============================] - 2062s 191ms/step - loss: 0.0299 - accuracy: 0.9896 - val_loss: 1.9379 - val_accuracy: 0.6264\n",
      "\n",
      "Epoch 00116: val_accuracy did not improve from 0.65701\n",
      "Epoch 117/300\n",
      "10800/10800 [==============================] - 2071s 192ms/step - loss: 0.0303 - accuracy: 0.9894 - val_loss: 1.9951 - val_accuracy: 0.6303\n",
      "\n",
      "Epoch 00117: val_accuracy did not improve from 0.65701\n",
      "Epoch 118/300\n",
      "10800/10800 [==============================] - 2063s 191ms/step - loss: 0.0293 - accuracy: 0.9897 - val_loss: 1.9605 - val_accuracy: 0.6268\n",
      "\n",
      "Epoch 00118: val_accuracy did not improve from 0.65701\n",
      "Epoch 119/300\n",
      "10800/10800 [==============================] - 2065s 191ms/step - loss: 0.0271 - accuracy: 0.9908 - val_loss: 2.1148 - val_accuracy: 0.6278\n",
      "\n",
      "Epoch 00119: val_accuracy did not improve from 0.65701\n",
      "Epoch 120/300\n",
      "10800/10800 [==============================] - 2065s 191ms/step - loss: 0.0262 - accuracy: 0.9907 - val_loss: 2.3424 - val_accuracy: 0.6216\n",
      "\n",
      "Epoch 00120: val_accuracy did not improve from 0.65701\n",
      "Epoch 121/300\n",
      "10800/10800 [==============================] - 2070s 192ms/step - loss: 0.0246 - accuracy: 0.9916 - val_loss: 2.1587 - val_accuracy: 0.6333\n",
      "\n",
      "Epoch 00121: val_accuracy did not improve from 0.65701\n",
      "Epoch 122/300\n",
      "10800/10800 [==============================] - 2068s 191ms/step - loss: 0.0251 - accuracy: 0.9911 - val_loss: 2.4306 - val_accuracy: 0.6271\n",
      "\n",
      "Epoch 00122: val_accuracy did not improve from 0.65701\n",
      "Epoch 123/300\n",
      "10800/10800 [==============================] - 2063s 191ms/step - loss: 0.0260 - accuracy: 0.9907 - val_loss: 2.1624 - val_accuracy: 0.6221\n",
      "\n",
      "Epoch 00123: val_accuracy did not improve from 0.65701\n",
      "Epoch 124/300\n",
      "10800/10800 [==============================] - 2060s 191ms/step - loss: 0.0236 - accuracy: 0.9917 - val_loss: 2.3236 - val_accuracy: 0.6280\n",
      "\n",
      "Epoch 00124: val_accuracy did not improve from 0.65701\n",
      "Epoch 125/300\n",
      "10800/10800 [==============================] - 2073s 192ms/step - loss: 0.0220 - accuracy: 0.9925 - val_loss: 2.4872 - val_accuracy: 0.6232\n",
      "\n",
      "Epoch 00125: val_accuracy did not improve from 0.65701\n",
      "Epoch 126/300\n",
      "10800/10800 [==============================] - 2073s 192ms/step - loss: 0.0213 - accuracy: 0.9926 - val_loss: 2.2743 - val_accuracy: 0.6278\n",
      "\n",
      "Epoch 00126: val_accuracy did not improve from 0.65701\n",
      "Epoch 127/300\n",
      "10800/10800 [==============================] - 2071s 192ms/step - loss: 0.0219 - accuracy: 0.9926 - val_loss: 2.2796 - val_accuracy: 0.6296\n",
      "\n",
      "Epoch 00127: val_accuracy did not improve from 0.65701\n",
      "Epoch 128/300\n",
      "10800/10800 [==============================] - 2072s 192ms/step - loss: 0.0215 - accuracy: 0.9924 - val_loss: 2.3889 - val_accuracy: 0.6228\n",
      "\n",
      "Epoch 00128: val_accuracy did not improve from 0.65701\n",
      "Epoch 129/300\n",
      "10800/10800 [==============================] - 2069s 192ms/step - loss: 0.0180 - accuracy: 0.9940 - val_loss: 2.2357 - val_accuracy: 0.6221\n",
      "\n",
      "Epoch 00129: val_accuracy did not improve from 0.65701\n",
      "Epoch 130/300\n",
      "10800/10800 [==============================] - 2071s 192ms/step - loss: 0.0184 - accuracy: 0.9933 - val_loss: 2.2695 - val_accuracy: 0.6278\n",
      "\n",
      "Epoch 00130: val_accuracy did not improve from 0.65701\n",
      "Epoch 131/300\n",
      "10800/10800 [==============================] - 2073s 192ms/step - loss: 0.0182 - accuracy: 0.9937 - val_loss: 2.3382 - val_accuracy: 0.6265\n",
      "\n",
      "Epoch 00131: val_accuracy did not improve from 0.65701\n",
      "Epoch 132/300\n",
      "10800/10800 [==============================] - 2074s 192ms/step - loss: 0.0188 - accuracy: 0.9936 - val_loss: 2.3671 - val_accuracy: 0.6278\n",
      "\n",
      "Epoch 00132: val_accuracy did not improve from 0.65701\n",
      "Epoch 133/300\n",
      "10800/10800 [==============================] - 2072s 192ms/step - loss: 0.0159 - accuracy: 0.9946 - val_loss: 2.4070 - val_accuracy: 0.6306\n",
      "\n",
      "Epoch 00133: val_accuracy did not improve from 0.65701\n",
      "Epoch 134/300\n",
      "10800/10800 [==============================] - 2058s 191ms/step - loss: 0.0191 - accuracy: 0.9935 - val_loss: 2.6145 - val_accuracy: 0.6216\n",
      "\n",
      "Epoch 00134: val_accuracy did not improve from 0.65701\n",
      "Epoch 135/300\n",
      "10800/10800 [==============================] - 2064s 191ms/step - loss: 0.0178 - accuracy: 0.9938 - val_loss: 2.8577 - val_accuracy: 0.6203\n",
      "\n",
      "Epoch 00135: val_accuracy did not improve from 0.65701\n",
      "Epoch 136/300\n",
      "10800/10800 [==============================] - 2056s 190ms/step - loss: 0.0167 - accuracy: 0.9939 - val_loss: 2.6132 - val_accuracy: 0.6241\n",
      "\n",
      "Epoch 00136: val_accuracy did not improve from 0.65701\n",
      "Epoch 137/300\n",
      "10800/10800 [==============================] - 2071s 192ms/step - loss: 0.0164 - accuracy: 0.9942 - val_loss: 2.5169 - val_accuracy: 0.6285\n",
      "\n",
      "Epoch 00137: val_accuracy did not improve from 0.65701\n",
      "Epoch 138/300\n",
      "10800/10800 [==============================] - 2063s 191ms/step - loss: 0.0182 - accuracy: 0.9937 - val_loss: 2.3801 - val_accuracy: 0.6276\n",
      "\n",
      "Epoch 00138: val_accuracy did not improve from 0.65701\n",
      "Epoch 139/300\n",
      "10800/10800 [==============================] - 2063s 191ms/step - loss: 0.0153 - accuracy: 0.9947 - val_loss: 2.3444 - val_accuracy: 0.6289\n",
      "\n",
      "Epoch 00139: val_accuracy did not improve from 0.65701\n",
      "Epoch 140/300\n",
      "10800/10800 [==============================] - 2062s 191ms/step - loss: 0.0165 - accuracy: 0.9945 - val_loss: 2.5546 - val_accuracy: 0.6274\n",
      "\n",
      "Epoch 00140: val_accuracy did not improve from 0.65701\n",
      "Epoch 141/300\n",
      "10800/10800 [==============================] - 2059s 191ms/step - loss: 0.0138 - accuracy: 0.9954 - val_loss: 2.6192 - val_accuracy: 0.6236\n",
      "\n",
      "Epoch 00141: val_accuracy did not improve from 0.65701\n",
      "Epoch 142/300\n",
      "10800/10800 [==============================] - 2062s 191ms/step - loss: 0.0147 - accuracy: 0.9951 - val_loss: 2.6465 - val_accuracy: 0.6302\n",
      "\n",
      "Epoch 00142: val_accuracy did not improve from 0.65701\n",
      "Epoch 143/300\n",
      "10800/10800 [==============================] - 2060s 191ms/step - loss: 0.0171 - accuracy: 0.9939 - val_loss: 2.4483 - val_accuracy: 0.6206\n",
      "\n",
      "Epoch 00143: val_accuracy did not improve from 0.65701\n",
      "Epoch 144/300\n",
      "10800/10800 [==============================] - 2071s 192ms/step - loss: 0.0159 - accuracy: 0.9946 - val_loss: 2.6661 - val_accuracy: 0.6211\n",
      "\n",
      "Epoch 00144: val_accuracy did not improve from 0.65701\n",
      "Epoch 145/300\n",
      "10800/10800 [==============================] - 2059s 191ms/step - loss: 0.0141 - accuracy: 0.9954 - val_loss: 2.6297 - val_accuracy: 0.6269\n",
      "\n",
      "Epoch 00145: val_accuracy did not improve from 0.65701\n",
      "Epoch 146/300\n",
      "10800/10800 [==============================] - 2067s 191ms/step - loss: 0.0126 - accuracy: 0.9955 - val_loss: 2.5998 - val_accuracy: 0.6244\n",
      "\n",
      "Epoch 00146: val_accuracy did not improve from 0.65701\n",
      "Epoch 147/300\n",
      "10800/10800 [==============================] - 2067s 191ms/step - loss: 0.0138 - accuracy: 0.9954 - val_loss: 2.4518 - val_accuracy: 0.6228\n",
      "\n",
      "Epoch 00147: val_accuracy did not improve from 0.65701\n",
      "Epoch 148/300\n",
      "10800/10800 [==============================] - 2069s 192ms/step - loss: 0.0126 - accuracy: 0.9959 - val_loss: 2.1816 - val_accuracy: 0.6287\n",
      "\n",
      "Epoch 00148: val_accuracy did not improve from 0.65701\n",
      "Epoch 149/300\n",
      "10800/10800 [==============================] - 2070s 192ms/step - loss: 0.0121 - accuracy: 0.9960 - val_loss: 2.5269 - val_accuracy: 0.6266\n",
      "\n",
      "Epoch 00149: val_accuracy did not improve from 0.65701\n",
      "Epoch 150/300\n",
      "10800/10800 [==============================] - 2067s 191ms/step - loss: 0.0122 - accuracy: 0.9960 - val_loss: 2.6624 - val_accuracy: 0.6239\n",
      "\n",
      "Epoch 00150: val_accuracy did not improve from 0.65701\n",
      "Epoch 151/300\n",
      "10800/10800 [==============================] - 2071s 192ms/step - loss: 0.0137 - accuracy: 0.9957 - val_loss: 2.6603 - val_accuracy: 0.6263\n",
      "\n",
      "Epoch 00151: val_accuracy did not improve from 0.65701\n",
      "Epoch 152/300\n",
      "10800/10800 [==============================] - 2071s 192ms/step - loss: 0.0124 - accuracy: 0.9956 - val_loss: 2.4520 - val_accuracy: 0.6265\n",
      "\n",
      "Epoch 00152: val_accuracy did not improve from 0.65701\n",
      "Epoch 153/300\n"
     ]
    },
    {
     "name": "stdout",
     "output_type": "stream",
     "text": [
      "10800/10800 [==============================] - 2064s 191ms/step - loss: 0.0733 - accuracy: 0.9615 - val_loss: 1.7807 - val_accuracy: 0.6200\n",
      "\n",
      "Epoch 00153: val_accuracy did not improve from 0.65701\n",
      "Epoch 154/300\n",
      "10800/10800 [==============================] - 2062s 191ms/step - loss: 0.0298 - accuracy: 0.9899 - val_loss: 2.2721 - val_accuracy: 0.6223\n",
      "\n",
      "Epoch 00154: val_accuracy did not improve from 0.65701\n",
      "Epoch 155/300\n",
      "10800/10800 [==============================] - 2058s 191ms/step - loss: 0.0205 - accuracy: 0.9929 - val_loss: 2.3234 - val_accuracy: 0.6269\n",
      "\n",
      "Epoch 00155: val_accuracy did not improve from 0.65701\n",
      "Epoch 156/300\n",
      "10800/10800 [==============================] - 2073s 192ms/step - loss: 0.0163 - accuracy: 0.9946 - val_loss: 2.5996 - val_accuracy: 0.6225\n",
      "\n",
      "Epoch 00156: val_accuracy did not improve from 0.65701\n",
      "Epoch 157/300\n",
      "10800/10800 [==============================] - 2064s 191ms/step - loss: 0.0168 - accuracy: 0.9946 - val_loss: 2.1126 - val_accuracy: 0.6274\n",
      "\n",
      "Epoch 00157: val_accuracy did not improve from 0.65701\n",
      "Epoch 158/300\n",
      "10800/10800 [==============================] - 2066s 191ms/step - loss: 0.0141 - accuracy: 0.9949 - val_loss: 2.5178 - val_accuracy: 0.6221\n",
      "\n",
      "Epoch 00158: val_accuracy did not improve from 0.65701\n",
      "Epoch 159/300\n",
      "10800/10800 [==============================] - 2060s 191ms/step - loss: 0.0153 - accuracy: 0.9948 - val_loss: 2.4917 - val_accuracy: 0.6251\n",
      "\n",
      "Epoch 00159: val_accuracy did not improve from 0.65701\n",
      "Epoch 160/300\n",
      "10800/10800 [==============================] - 2060s 191ms/step - loss: 0.0129 - accuracy: 0.9955 - val_loss: 2.6696 - val_accuracy: 0.6292\n",
      "\n",
      "Epoch 00160: val_accuracy did not improve from 0.65701\n",
      "Epoch 161/300\n",
      "10800/10800 [==============================] - 2065s 191ms/step - loss: 0.0128 - accuracy: 0.9954 - val_loss: 2.4140 - val_accuracy: 0.6293\n",
      "\n",
      "Epoch 00161: val_accuracy did not improve from 0.65701\n",
      "Epoch 162/300\n",
      "10800/10800 [==============================] - 2063s 191ms/step - loss: 0.0120 - accuracy: 0.9961 - val_loss: 2.6947 - val_accuracy: 0.6235\n",
      "\n",
      "Epoch 00162: val_accuracy did not improve from 0.65701\n",
      "Epoch 163/300\n",
      "10800/10800 [==============================] - 2071s 192ms/step - loss: 0.0119 - accuracy: 0.9960 - val_loss: 2.7977 - val_accuracy: 0.6233\n",
      "\n",
      "Epoch 00163: val_accuracy did not improve from 0.65701\n",
      "Epoch 00163: early stopping\n",
      "Training Completed!\n"
     ]
    }
   ],
   "source": [
    "#callbacks = [ModelCheckpoint(model_weights_file, monitor='val_acc', save_best_only=True)]\n",
    "\n",
    "history = model.fit(train_generator, epochs=300, validation_data=validation_generator, callbacks=[checkpoint,early])\n",
    "\n",
    "print('Training Completed!')"
   ]
  },
  {
   "cell_type": "code",
   "execution_count": 12,
   "metadata": {},
   "outputs": [
    {
     "name": "stdout",
     "output_type": "stream",
     "text": [
      "dict_keys(['loss', 'accuracy', 'val_loss', 'val_accuracy'])\n"
     ]
    },
    {
     "data": {
      "image/png": "[encoded data removed]",
      "text/plain": [
       "<Figure size 432x288 with 1 Axes>"
      ]
     },
     "metadata": {
      "needs_background": "light"
     },
     "output_type": "display_data"
    },
    {
     "data": {
      "image/png": "[encoded data removed]",
      "text/plain": [
       "<Figure size 432x288 with 1 Axes>"
      ]
     },
     "metadata": {
      "needs_background": "light"
     },
     "output_type": "display_data"
    }
   ],
   "source": [
    "import matplotlib.pyplot as plt\n",
    "# list all data in history\n",
    "print(history.history.keys())\n",
    "# summarize history for accuracy\n",
    "plt.plot(history.history['accuracy'])\n",
    "plt.plot(history.history['val_accuracy'])\n",
    "plt.title('model accuracy')\n",
    "plt.ylabel('accuracy')\n",
    "plt.xlabel('epoch')\n",
    "plt.legend(['train', 'test'], loc='upper left')\n",
    "plt.show()\n",
    "# summarize history for loss\n",
    "plt.plot(history.history['loss'])\n",
    "plt.plot(history.history['val_loss'])\n",
    "plt.title('model loss')\n",
    "plt.ylabel('loss')\n",
    "\n",
    "\n",
    "\n",
    "plt.xlabel('epoch')\n",
    "plt.legend(['train', 'test'], loc='upper left')\n",
    "plt.show()"
   ]
  },
  {
   "cell_type": "code",
   "execution_count": 13,
   "metadata": {
    "colab": {
     "base_uri": "https://localhost:8080/",
     "height": 340
    },
    "id": "66v0MvyvZZDW",
    "outputId": "98984b6d-74fe-43a7-a011-6145b6ef1c31"
   },
   "outputs": [
    {
     "name": "stdout",
     "output_type": "stream",
     "text": [
      "Model: \"sequential\"\n",
      "_________________________________________________________________\n",
      "Layer (type)                 Output Shape              Param #   \n",
      "=================================================================\n",
      "conv2d (Conv2D)              (None, 224, 224, 64)      1792      \n",
      "_________________________________________________________________\n",
      "conv2d_1 (Conv2D)            (None, 224, 224, 64)      36928     \n",
      "_________________________________________________________________\n",
      "max_pooling2d (MaxPooling2D) (None, 112, 112, 64)      0         \n",
      "_________________________________________________________________\n",
      "conv2d_2 (Conv2D)            (None, 112, 112, 128)     73856     \n",
      "_________________________________________________________________\n",
      "conv2d_3 (Conv2D)            (None, 112, 112, 128)     147584    \n",
      "_________________________________________________________________\n",
      "max_pooling2d_1 (MaxPooling2 (None, 56, 56, 128)       0         \n",
      "_________________________________________________________________\n",
      "conv2d_4 (Conv2D)            (None, 56, 56, 256)       295168    \n",
      "_________________________________________________________________\n",
      "conv2d_5 (Conv2D)            (None, 56, 56, 256)       590080    \n",
      "_________________________________________________________________\n",
      "conv2d_6 (Conv2D)            (None, 56, 56, 256)       590080    \n",
      "_________________________________________________________________\n",
      "max_pooling2d_2 (MaxPooling2 (None, 28, 28, 256)       0         \n",
      "_________________________________________________________________\n",
      "conv2d_7 (Conv2D)            (None, 28, 28, 512)       1180160   \n",
      "_________________________________________________________________\n",
      "conv2d_8 (Conv2D)            (None, 28, 28, 512)       2359808   \n",
      "_________________________________________________________________\n",
      "conv2d_9 (Conv2D)            (None, 28, 28, 512)       2359808   \n",
      "_________________________________________________________________\n",
      "max_pooling2d_3 (MaxPooling2 (None, 14, 14, 512)       0         \n",
      "_________________________________________________________________\n",
      "conv2d_10 (Conv2D)           (None, 14, 14, 512)       2359808   \n",
      "_________________________________________________________________\n",
      "conv2d_11 (Conv2D)           (None, 14, 14, 512)       2359808   \n",
      "_________________________________________________________________\n",
      "conv2d_12 (Conv2D)           (None, 14, 14, 512)       2359808   \n",
      "_________________________________________________________________\n",
      "max_pooling2d_4 (MaxPooling2 (None, 7, 7, 512)         0         \n",
      "_________________________________________________________________\n",
      "flatten (Flatten)            (None, 25088)             0         \n",
      "_________________________________________________________________\n",
      "dense (Dense)                (None, 4096)              102764544 \n",
      "_________________________________________________________________\n",
      "dense_1 (Dense)              (None, 4096)              16781312  \n",
      "_________________________________________________________________\n",
      "dense_2 (Dense)              (None, 1000)              4097000   \n",
      "_________________________________________________________________\n",
      "hidden_layer (Dense)         (None, 128)               128128    \n",
      "_________________________________________________________________\n",
      "classification_layer (Dense) (None, 64)                8256      \n",
      "_________________________________________________________________\n",
      "output_layer (Dense)         (None, 1)                 65        \n",
      "=================================================================\n",
      "Total params: 138,493,993\n",
      "Trainable params: 138,493,993\n",
      "Non-trainable params: 0\n",
      "_________________________________________________________________\n",
      "Saved model to disk\n"
     ]
    }
   ],
   "source": [
    " # save model and architecture to single file\n",
    "model.save('/home/poornima/Data/GDPS/Signature_Verification_GDPS_SGD_Novel-FINAL.h5')\n",
    "model.summary()\n",
    "\n",
    "print(\"Saved model to disk\")"
   ]
  },
  {
   "cell_type": "code",
   "execution_count": 14,
   "metadata": {
    "colab": {
     "base_uri": "https://localhost:8080/",
     "height": 34
    },
    "id": "YFq0H2-BZcjS",
    "outputId": "d34179f6-9cc1-4d4f-8779-a91bf775d909"
   },
   "outputs": [
    {
     "name": "stdout",
     "output_type": "stream",
     "text": [
      "Weights saved in local  Drive\n"
     ]
    }
   ],
   "source": [
    "# save weights to single file\n",
    "model.save_weights('/home/poornima/Data/GDPS/Signature_Verification_WEIGHTS_GDPS_SGD_Novel-FINAL.h5')\n",
    "print(\"Weights saved in local  Drive\")"
   ]
  },
  {
   "cell_type": "code",
   "execution_count": 71,
   "metadata": {
    "colab": {
     "base_uri": "https://localhost:8080/",
     "height": 340
    },
    "id": "WZAi-ofxZgR8",
    "outputId": "c719fec6-0ed3-458f-a837-db040ccb9875"
   },
   "outputs": [
    {
     "name": "stdout",
     "output_type": "stream",
     "text": [
      "Model is Loaded\n",
      "Model: \"sequential\"\n",
      "_________________________________________________________________\n",
      "Layer (type)                 Output Shape              Param #   \n",
      "=================================================================\n",
      "conv2d (Conv2D)              (None, 224, 224, 64)      1792      \n",
      "_________________________________________________________________\n",
      "conv2d_1 (Conv2D)            (None, 224, 224, 64)      36928     \n",
      "_________________________________________________________________\n",
      "max_pooling2d (MaxPooling2D) (None, 112, 112, 64)      0         \n",
      "_________________________________________________________________\n",
      "conv2d_2 (Conv2D)            (None, 112, 112, 128)     73856     \n",
      "_________________________________________________________________\n",
      "conv2d_3 (Conv2D)            (None, 112, 112, 128)     147584    \n",
      "_________________________________________________________________\n",
      "max_pooling2d_1 (MaxPooling2 (None, 56, 56, 128)       0         \n",
      "_________________________________________________________________\n",
      "conv2d_4 (Conv2D)            (None, 56, 56, 256)       295168    \n",
      "_________________________________________________________________\n",
      "conv2d_5 (Conv2D)            (None, 56, 56, 256)       590080    \n",
      "_________________________________________________________________\n",
      "conv2d_6 (Conv2D)            (None, 56, 56, 256)       590080    \n",
      "_________________________________________________________________\n",
      "max_pooling2d_2 (MaxPooling2 (None, 28, 28, 256)       0         \n",
      "_________________________________________________________________\n",
      "conv2d_7 (Conv2D)            (None, 28, 28, 512)       1180160   \n",
      "_________________________________________________________________\n",
      "conv2d_8 (Conv2D)            (None, 28, 28, 512)       2359808   \n",
      "_________________________________________________________________\n",
      "conv2d_9 (Conv2D)            (None, 28, 28, 512)       2359808   \n",
      "_________________________________________________________________\n",
      "max_pooling2d_3 (MaxPooling2 (None, 14, 14, 512)       0         \n",
      "_________________________________________________________________\n",
      "conv2d_10 (Conv2D)           (None, 14, 14, 512)       2359808   \n",
      "_________________________________________________________________\n",
      "conv2d_11 (Conv2D)           (None, 14, 14, 512)       2359808   \n",
      "_________________________________________________________________\n",
      "conv2d_12 (Conv2D)           (None, 14, 14, 512)       2359808   \n",
      "_________________________________________________________________\n",
      "max_pooling2d_4 (MaxPooling2 (None, 7, 7, 512)         0         \n",
      "_________________________________________________________________\n",
      "flatten (Flatten)            (None, 25088)             0         \n",
      "_________________________________________________________________\n",
      "dense (Dense)                (None, 4096)              102764544 \n",
      "_________________________________________________________________\n",
      "dense_1 (Dense)              (None, 4096)              16781312  \n",
      "_________________________________________________________________\n",
      "dense_2 (Dense)              (None, 1000)              4097000   \n",
      "_________________________________________________________________\n",
      "hidden_layer (Dense)         (None, 128)               128128    \n",
      "_________________________________________________________________\n",
      "classification_layer (Dense) (None, 64)                8256      \n",
      "_________________________________________________________________\n",
      "output_layer (Dense)         (None, 1)                 65        \n",
      "=================================================================\n",
      "Total params: 138,493,993\n",
      "Trainable params: 138,493,993\n",
      "Non-trainable params: 0\n",
      "_________________________________________________________________\n"
     ]
    }
   ],
   "source": [
    "# Loading saved model from Drive.\n",
    "from tensorflow.keras.models import load_model\n",
    "model = load_model('/home/poornima/Data/GDPS/Signature_Verification_GDPS_SGD_Novel-FINAL.h5')\n",
    "print(\"Model is Loaded\")\n",
    "model.summary()"
   ]
  },
  {
   "cell_type": "code",
   "execution_count": 16,
   "metadata": {},
   "outputs": [
    {
     "data": {
      "image/png": "[encoded data removed]",
      "text/plain": [
       "<IPython.core.display.Image object>"
      ]
     },
     "execution_count": 16,
     "metadata": {},
     "output_type": "execute_result"
    }
   ],
   "source": [
    "from tensorflow.keras.utils import plot_model\n",
    "plot_model(model, to_file='model_plot_CNN.png', show_shapes=True, show_layer_names=True)"
   ]
  },
  {
   "cell_type": "code",
   "execution_count": 72,
   "metadata": {},
   "outputs": [
    {
     "name": "stdout",
     "output_type": "stream",
     "text": [
      "[[3.3538299e-07]\n",
      " [2.3144310e-04]\n",
      " [3.5800848e-03]\n",
      " ...\n",
      " [7.2626844e-12]\n",
      " [8.1919950e-07]\n",
      " [9.5099526e-14]]\n"
     ]
    }
   ],
   "source": [
    "import pandas as pd\n",
    "validation_generator.reset\n",
    "ytesthat = model.predict(validation_generator)\n",
    "print(ytesthat)\n",
    "df = pd.DataFrame({\n",
    "    'filename':validation_generator.filenames,\n",
    "    'predict':ytesthat[:,0],\n",
    "    'y':validation_generator.classes\n",
    "})"
   ]
  },
  {
   "cell_type": "code",
   "execution_count": 74,
   "metadata": {},
   "outputs": [
    {
     "data": {
      "text/html": [
       "<div>\n",
       "<style scoped>\n",
       "    .dataframe tbody tr th:only-of-type {\n",
       "        vertical-align: middle;\n",
       "    }\n",
       "\n",
       "    .dataframe tbody tr th {\n",
       "        vertical-align: top;\n",
       "    }\n",
       "\n",
       "    .dataframe thead th {\n",
       "        text-align: right;\n",
       "    }\n",
       "</style>\n",
       "<table border=\"1\" class=\"dataframe\">\n",
       "  <thead>\n",
       "    <tr style=\"text-align: right;\">\n",
       "      <th></th>\n",
       "      <th>filename</th>\n",
       "      <th>predict</th>\n",
       "      <th>y</th>\n",
       "      <th>y_pred</th>\n",
       "    </tr>\n",
       "  </thead>\n",
       "  <tbody>\n",
       "    <tr>\n",
       "      <th>0</th>\n",
       "      <td>forged/cf-001-01.jpg</td>\n",
       "      <td>0.00000</td>\n",
       "      <td>0</td>\n",
       "      <td>0</td>\n",
       "    </tr>\n",
       "    <tr>\n",
       "      <th>1</th>\n",
       "      <td>forged/cf-001-02.jpg</td>\n",
       "      <td>0.00023</td>\n",
       "      <td>0</td>\n",
       "      <td>0</td>\n",
       "    </tr>\n",
       "    <tr>\n",
       "      <th>2</th>\n",
       "      <td>forged/cf-001-03.jpg</td>\n",
       "      <td>0.00358</td>\n",
       "      <td>0</td>\n",
       "      <td>0</td>\n",
       "    </tr>\n",
       "    <tr>\n",
       "      <th>3</th>\n",
       "      <td>forged/cf-001-04.jpg</td>\n",
       "      <td>0.00000</td>\n",
       "      <td>0</td>\n",
       "      <td>0</td>\n",
       "    </tr>\n",
       "    <tr>\n",
       "      <th>4</th>\n",
       "      <td>forged/cf-001-05.jpg</td>\n",
       "      <td>0.00000</td>\n",
       "      <td>0</td>\n",
       "      <td>0</td>\n",
       "    </tr>\n",
       "    <tr>\n",
       "      <th>...</th>\n",
       "      <td>...</td>\n",
       "      <td>...</td>\n",
       "      <td>...</td>\n",
       "      <td>...</td>\n",
       "    </tr>\n",
       "    <tr>\n",
       "      <th>43195</th>\n",
       "      <td>genuine/c-1636-20.jpg</td>\n",
       "      <td>0.00000</td>\n",
       "      <td>1</td>\n",
       "      <td>0</td>\n",
       "    </tr>\n",
       "    <tr>\n",
       "      <th>43196</th>\n",
       "      <td>genuine/c-1636-21.jpg</td>\n",
       "      <td>0.00000</td>\n",
       "      <td>1</td>\n",
       "      <td>0</td>\n",
       "    </tr>\n",
       "    <tr>\n",
       "      <th>43197</th>\n",
       "      <td>genuine/c-1636-22.jpg</td>\n",
       "      <td>0.00000</td>\n",
       "      <td>1</td>\n",
       "      <td>0</td>\n",
       "    </tr>\n",
       "    <tr>\n",
       "      <th>43198</th>\n",
       "      <td>genuine/c-1636-23.jpg</td>\n",
       "      <td>0.00000</td>\n",
       "      <td>1</td>\n",
       "      <td>0</td>\n",
       "    </tr>\n",
       "    <tr>\n",
       "      <th>43199</th>\n",
       "      <td>genuine/c-1636-24.jpg</td>\n",
       "      <td>0.00000</td>\n",
       "      <td>1</td>\n",
       "      <td>0</td>\n",
       "    </tr>\n",
       "  </tbody>\n",
       "</table>\n",
       "<p>43200 rows × 4 columns</p>\n",
       "</div>"
      ],
      "text/plain": [
       "                    filename  predict  y  y_pred\n",
       "0       forged/cf-001-01.jpg  0.00000  0       0\n",
       "1       forged/cf-001-02.jpg  0.00023  0       0\n",
       "2       forged/cf-001-03.jpg  0.00358  0       0\n",
       "3       forged/cf-001-04.jpg  0.00000  0       0\n",
       "4       forged/cf-001-05.jpg  0.00000  0       0\n",
       "...                      ...      ... ..     ...\n",
       "43195  genuine/c-1636-20.jpg  0.00000  1       0\n",
       "43196  genuine/c-1636-21.jpg  0.00000  1       0\n",
       "43197  genuine/c-1636-22.jpg  0.00000  1       0\n",
       "43198  genuine/c-1636-23.jpg  0.00000  1       0\n",
       "43199  genuine/c-1636-24.jpg  0.00000  1       0\n",
       "\n",
       "[43200 rows x 4 columns]"
      ]
     },
     "execution_count": 74,
     "metadata": {},
     "output_type": "execute_result"
    }
   ],
   "source": [
    "pd.set_option('display.float_format', lambda x: '%.5f' % x)\n",
    "df['y_pred'] = df['predict']>0.5\n",
    "df.y_pred = df.y_pred.astype(int)\n",
    "df"
   ]
  },
  {
   "cell_type": "code",
   "execution_count": 75,
   "metadata": {},
   "outputs": [
    {
     "name": "stdout",
     "output_type": "stream",
     "text": [
      "Total misclassified  Validation images : 16272\n"
     ]
    }
   ],
   "source": [
    "misclassified = df[df['y']!=df['y_pred']]\n",
    "print('Total misclassified  Validation images : %d'%misclassified['y'].count())"
   ]
  },
  {
   "cell_type": "code",
   "execution_count": 76,
   "metadata": {},
   "outputs": [
    {
     "data": {
      "text/plain": [
       "Text(33.0, 0.5, 'true value')"
      ]
     },
     "execution_count": 76,
     "metadata": {},
     "output_type": "execute_result"
    },
    {
     "data": {
      "image/png": "[encoded data removed]",
      "text/plain": [
       "<Figure size 432x288 with 2 Axes>"
      ]
     },
     "metadata": {
      "needs_background": "light"
     },
     "output_type": "display_data"
    }
   ],
   "source": [
    "#Prediction of test set\n",
    "from sklearn.metrics import confusion_matrix \n",
    "import matplotlib.pyplot as plt\n",
    "import seaborn as sns\n",
    "\n",
    "conf_matrix = confusion_matrix(df.y,df.y_pred)\n",
    "sns.heatmap(conf_matrix,cmap=\"YlGnBu\",annot=True,fmt='g', xticklabels=['Genuine', 'Forged'], yticklabels=['Genuine', 'Forged'] );\n",
    "plt.xlabel('predicted value')\n",
    "plt.ylabel('true value')"
   ]
  },
  {
   "cell_type": "code",
   "execution_count": 77,
   "metadata": {},
   "outputs": [
    {
     "name": "stderr",
     "output_type": "stream",
     "text": [
      "/home/poornima/anaconda3/envs/keras/lib/python3.9/site-packages/tensorflow/python/keras/engine/sequential.py:425: UserWarning: `model.predict_proba()` is deprecated and will be removed after 2021-01-01. Please use `model.predict()` instead.\n",
      "  warnings.warn('`model.predict_proba()` is deprecated and '\n"
     ]
    },
    {
     "data": {
      "image/png": "[encoded data removed]",
      "text/plain": [
       "<Figure size 432x288 with 1 Axes>"
      ]
     },
     "metadata": {
      "needs_background": "light"
     },
     "output_type": "display_data"
    }
   ],
   "source": [
    "from sklearn.metrics import roc_curve\n",
    "from sklearn.metrics import roc_auc_score\n",
    "\n",
    "y_pred_proba = model.predict_proba(validation_generator)[:,0]\n",
    "fpr, tpr, _ = roc_curve(df.y,  y_pred_proba)\n",
    "auc = roc_auc_score(df.y, y_pred_proba)\n",
    "plt.plot(fpr,tpr,label=\"data 1, auc=\"+str(auc))\n",
    "# title\n",
    "plt.title('ROC curve')\n",
    "# x label\n",
    "plt.xlabel('False Positive Rate')\n",
    "# y label\n",
    "plt.ylabel('True Positive rate')\n",
    "\n",
    "plt.legend(loc=4)\n",
    "plt.show()"
   ]
  },
  {
   "cell_type": "code",
   "execution_count": 78,
   "metadata": {},
   "outputs": [],
   "source": [
    "from sklearn.metrics import recall_score\n",
    "tpr = recall_score(df.y,df.y_pred)   # it is better to name it y_test \n",
    "# to calculate, tnr we need to set the positive label to the other class\n",
    "# I assume your negative class consists of 0, if it is -1, change 0 below to that value\n",
    "tnr = recall_score(df.y,df.y_pred, pos_label = 0) \n",
    "fpr = 1 - tnr\n",
    "fnr = 1 - tpr"
   ]
  },
  {
   "cell_type": "code",
   "execution_count": 79,
   "metadata": {},
   "outputs": [
    {
     "name": "stdout",
     "output_type": "stream",
     "text": [
      "0.16441666666666666\n"
     ]
    }
   ],
   "source": [
    "print(fpr)"
   ]
  },
  {
   "cell_type": "code",
   "execution_count": 80,
   "metadata": {},
   "outputs": [
    {
     "name": "stdout",
     "output_type": "stream",
     "text": [
      "0.6419791666666667\n"
     ]
    }
   ],
   "source": [
    "print(fnr)"
   ]
  },
  {
   "cell_type": "code",
   "execution_count": 81,
   "metadata": {},
   "outputs": [
    {
     "name": "stdout",
     "output_type": "stream",
     "text": [
      "[[1.6936773e-01]\n",
      " [3.0567867e-01]\n",
      " [4.9730964e-10]\n",
      " ...\n",
      " [9.9998975e-01]\n",
      " [9.9960810e-01]\n",
      " [9.9992156e-01]]\n"
     ]
    }
   ],
   "source": [
    "import pandas as pd\n",
    "train_generator.reset\n",
    "ytesthat = model.predict(train_generator)\n",
    "print(ytesthat)\n",
    "df = pd.DataFrame({\n",
    "    'filename':train_generator.filenames,\n",
    "    'predict':ytesthat[:,0],\n",
    "    'y_train':train_generator.classes\n",
    "})"
   ]
  },
  {
   "cell_type": "code",
   "execution_count": 82,
   "metadata": {},
   "outputs": [
    {
     "data": {
      "text/html": [
       "<div>\n",
       "<style scoped>\n",
       "    .dataframe tbody tr th:only-of-type {\n",
       "        vertical-align: middle;\n",
       "    }\n",
       "\n",
       "    .dataframe tbody tr th {\n",
       "        vertical-align: top;\n",
       "    }\n",
       "\n",
       "    .dataframe thead th {\n",
       "        text-align: right;\n",
       "    }\n",
       "</style>\n",
       "<table border=\"1\" class=\"dataframe\">\n",
       "  <thead>\n",
       "    <tr style=\"text-align: right;\">\n",
       "      <th></th>\n",
       "      <th>filename</th>\n",
       "      <th>predict</th>\n",
       "      <th>y_train</th>\n",
       "      <th>y_train_pred</th>\n",
       "    </tr>\n",
       "  </thead>\n",
       "  <tbody>\n",
       "    <tr>\n",
       "      <th>0</th>\n",
       "      <td>forged/cf-1637-01.jpg</td>\n",
       "      <td>0.16937</td>\n",
       "      <td>0</td>\n",
       "      <td>0</td>\n",
       "    </tr>\n",
       "    <tr>\n",
       "      <th>1</th>\n",
       "      <td>forged/cf-1637-02.jpg</td>\n",
       "      <td>0.30568</td>\n",
       "      <td>0</td>\n",
       "      <td>0</td>\n",
       "    </tr>\n",
       "    <tr>\n",
       "      <th>2</th>\n",
       "      <td>forged/cf-1637-03.jpg</td>\n",
       "      <td>0.00000</td>\n",
       "      <td>0</td>\n",
       "      <td>0</td>\n",
       "    </tr>\n",
       "    <tr>\n",
       "      <th>3</th>\n",
       "      <td>forged/cf-1637-04.jpg</td>\n",
       "      <td>0.00001</td>\n",
       "      <td>0</td>\n",
       "      <td>0</td>\n",
       "    </tr>\n",
       "    <tr>\n",
       "      <th>4</th>\n",
       "      <td>forged/cf-1637-05.jpg</td>\n",
       "      <td>0.00007</td>\n",
       "      <td>0</td>\n",
       "      <td>0</td>\n",
       "    </tr>\n",
       "    <tr>\n",
       "      <th>...</th>\n",
       "      <td>...</td>\n",
       "      <td>...</td>\n",
       "      <td>...</td>\n",
       "      <td>...</td>\n",
       "    </tr>\n",
       "    <tr>\n",
       "      <th>172795</th>\n",
       "      <td>genuine/c-999-20.jpg</td>\n",
       "      <td>0.99994</td>\n",
       "      <td>1</td>\n",
       "      <td>1</td>\n",
       "    </tr>\n",
       "    <tr>\n",
       "      <th>172796</th>\n",
       "      <td>genuine/c-999-21.jpg</td>\n",
       "      <td>0.99999</td>\n",
       "      <td>1</td>\n",
       "      <td>1</td>\n",
       "    </tr>\n",
       "    <tr>\n",
       "      <th>172797</th>\n",
       "      <td>genuine/c-999-22.jpg</td>\n",
       "      <td>0.99999</td>\n",
       "      <td>1</td>\n",
       "      <td>1</td>\n",
       "    </tr>\n",
       "    <tr>\n",
       "      <th>172798</th>\n",
       "      <td>genuine/c-999-23.jpg</td>\n",
       "      <td>0.99961</td>\n",
       "      <td>1</td>\n",
       "      <td>1</td>\n",
       "    </tr>\n",
       "    <tr>\n",
       "      <th>172799</th>\n",
       "      <td>genuine/c-999-24.jpg</td>\n",
       "      <td>0.99992</td>\n",
       "      <td>1</td>\n",
       "      <td>1</td>\n",
       "    </tr>\n",
       "  </tbody>\n",
       "</table>\n",
       "<p>172800 rows × 4 columns</p>\n",
       "</div>"
      ],
      "text/plain": [
       "                     filename  predict  y_train  y_train_pred\n",
       "0       forged/cf-1637-01.jpg  0.16937        0             0\n",
       "1       forged/cf-1637-02.jpg  0.30568        0             0\n",
       "2       forged/cf-1637-03.jpg  0.00000        0             0\n",
       "3       forged/cf-1637-04.jpg  0.00001        0             0\n",
       "4       forged/cf-1637-05.jpg  0.00007        0             0\n",
       "...                       ...      ...      ...           ...\n",
       "172795   genuine/c-999-20.jpg  0.99994        1             1\n",
       "172796   genuine/c-999-21.jpg  0.99999        1             1\n",
       "172797   genuine/c-999-22.jpg  0.99999        1             1\n",
       "172798   genuine/c-999-23.jpg  0.99961        1             1\n",
       "172799   genuine/c-999-24.jpg  0.99992        1             1\n",
       "\n",
       "[172800 rows x 4 columns]"
      ]
     },
     "execution_count": 82,
     "metadata": {},
     "output_type": "execute_result"
    }
   ],
   "source": [
    "pd.set_option('display.float_format', lambda x: '%.5f' % x)\n",
    "df['y_train_pred'] = df['predict']>0.5\n",
    "df.y_train_pred = df.y_train_pred.astype(int)\n",
    "df"
   ]
  },
  {
   "cell_type": "code",
   "execution_count": 83,
   "metadata": {},
   "outputs": [
    {
     "name": "stdout",
     "output_type": "stream",
     "text": [
      "Total misclassified  Validation images : 691\n"
     ]
    }
   ],
   "source": [
    "misclassified = df[df['y_train']!=df['y_train_pred']]\n",
    "print('Total misclassified  Validation images : %d'%misclassified['y_train'].count())"
   ]
  },
  {
   "cell_type": "code",
   "execution_count": 84,
   "metadata": {},
   "outputs": [
    {
     "data": {
      "text/plain": [
       "Text(33.0, 0.5, 'true value')"
      ]
     },
     "execution_count": 84,
     "metadata": {},
     "output_type": "execute_result"
    },
    {
     "data": {
      "image/png": "[encoded data removed]",
      "text/plain": [
       "<Figure size 432x288 with 2 Axes>"
      ]
     },
     "metadata": {
      "needs_background": "light"
     },
     "output_type": "display_data"
    }
   ],
   "source": [
    "#Prediction of Training set\n",
    "from sklearn.metrics import confusion_matrix \n",
    "import matplotlib.pyplot as plt\n",
    "import seaborn as sns\n",
    "\n",
    "conf_matrix = confusion_matrix(df.y_train,df.y_train_pred)\n",
    "sns.heatmap(conf_matrix,cmap=\"YlGnBu\",annot=True,fmt='g', xticklabels=['Genuine', 'Forged'], yticklabels=['Genuine', 'Forged'] );\n",
    "plt.xlabel('predicted value')\n",
    "plt.ylabel('true value')"
   ]
  },
  {
   "cell_type": "code",
   "execution_count": 85,
   "metadata": {},
   "outputs": [
    {
     "name": "stderr",
     "output_type": "stream",
     "text": [
      "/home/poornima/anaconda3/envs/keras/lib/python3.9/site-packages/tensorflow/python/keras/engine/sequential.py:425: UserWarning: `model.predict_proba()` is deprecated and will be removed after 2021-01-01. Please use `model.predict()` instead.\n",
      "  warnings.warn('`model.predict_proba()` is deprecated and '\n"
     ]
    },
    {
     "data": {
      "image/png": "[encoded data removed]",
      "text/plain": [
       "<Figure size 432x288 with 1 Axes>"
      ]
     },
     "metadata": {
      "needs_background": "light"
     },
     "output_type": "display_data"
    }
   ],
   "source": [
    "from sklearn.metrics import roc_curve\n",
    "from sklearn.metrics import roc_auc_score\n",
    "\n",
    "y_train_pred_proba = model.predict_proba(train_generator)[:,0]\n",
    "fpr_train, tpr_train, _ = roc_curve(df.y_train,  y_train_pred_proba)\n",
    "auc = roc_auc_score(df.y_train,  y_train_pred_proba)\n",
    "plt.plot(fpr,tpr,label=\"data 1, auc=\"+str(auc))\n",
    "# title\n",
    "plt.title('ROC curve')\n",
    "# x label\n",
    "plt.xlabel('False Positive Rate')\n",
    "# y label\n",
    "plt.ylabel('True Positive rate')\n",
    "\n",
    "plt.legend(loc=4)\n",
    "plt.show()"
   ]
  },
  {
   "cell_type": "code",
   "execution_count": 86,
   "metadata": {},
   "outputs": [
    {
     "data": {
      "text/plain": [
       "<Figure size 432x288 with 0 Axes>"
      ]
     },
     "metadata": {},
     "output_type": "display_data"
    }
   ],
   "source": [
    "plt.savefig(\"training_ROC_curve.png\")"
   ]
  },
  {
   "cell_type": "code",
   "execution_count": 88,
   "metadata": {},
   "outputs": [],
   "source": [
    "from sklearn.metrics import recall_score\n",
    "tpr = recall_score(df.y_train,df.y_train_pred)   # it is better to name it y_test \n",
    "# to calculate, tnr we need to set the positive label to the other class\n",
    "# I assume your negative class consists of 0, if it is -1, change 0 below to that value\n",
    "tnr = recall_score(df.y_train,df.y_train_pred, pos_label = 0) \n",
    "fpr = 1 - tnr\n",
    "fnr = 1 - tpr\n"
   ]
  },
  {
   "cell_type": "code",
   "execution_count": 90,
   "metadata": {},
   "outputs": [
    {
     "name": "stdout",
     "output_type": "stream",
     "text": [
      "Flase positive Rate    0.003770833333333279\n",
      "Flase Negative Rate      0.004283854166666656\n"
     ]
    }
   ],
   "source": [
    "print(\"Flase positive Rate    \"+  str(fpr))\n",
    "print(\"Flase Negative Rate      \"+  str(fnr))"
   ]
  },
  {
   "cell_type": "code",
   "execution_count": 49,
   "metadata": {
    "colab": {
     "base_uri": "https://localhost:8080/",
     "height": 34
    },
    "id": "ycbMLOcjZnmk",
    "outputId": "b8692643-72dd-420a-a35a-60675678fdab"
   },
   "outputs": [
    {
     "name": "stdout",
     "output_type": "stream",
     "text": [
      "Imtermediate model is constructed\n"
     ]
    }
   ],
   "source": [
    "# Extracting Features from classification Layer\n",
    "from tensorflow.keras.models import Model\n",
    "layer_name= 'classification_layer'\n",
    "intermediate_layer_model = Model(inputs=model.input,\n",
    "                                 outputs=model.get_layer(layer_name).output)\n",
    "print(\"Imtermediate model is constructed\")\n"
   ]
  },
  {
   "cell_type": "code",
   "execution_count": 50,
   "metadata": {
    "colab": {
     "base_uri": "https://localhost:8080/",
     "height": 34
    },
    "id": "nb3rfV35Z0nr",
    "outputId": "e945cc01-064d-4ed8-b25e-bc857247f94a"
   },
   "outputs": [
    {
     "name": "stdout",
     "output_type": "stream",
     "text": [
      "Model is Complied\n"
     ]
    }
   ],
   "source": [
    "# Compilation of intermediate model\n",
    "intermediate_layer_model.compile(loss='binary_crossentropy', optimizer='sgd', metrics=['accuracy'])\n",
    "print(\"Model is Complied\")"
   ]
  },
  {
   "cell_type": "code",
   "execution_count": 51,
   "metadata": {
    "colab": {
     "base_uri": "https://localhost:8080/",
     "height": 340
    },
    "id": "mjU09Es5Z4Fp",
    "outputId": "3ac70a4d-938b-42d4-dcbf-bc51aac2dc5a"
   },
   "outputs": [
    {
     "name": "stdout",
     "output_type": "stream",
     "text": [
      "Model: \"model_1\"\n",
      "_________________________________________________________________\n",
      "Layer (type)                 Output Shape              Param #   \n",
      "=================================================================\n",
      "conv2d_input (InputLayer)    [(None, 224, 224, 3)]     0         \n",
      "_________________________________________________________________\n",
      "conv2d (Conv2D)              (None, 224, 224, 64)      1792      \n",
      "_________________________________________________________________\n",
      "conv2d_1 (Conv2D)            (None, 224, 224, 64)      36928     \n",
      "_________________________________________________________________\n",
      "max_pooling2d (MaxPooling2D) (None, 112, 112, 64)      0         \n",
      "_________________________________________________________________\n",
      "conv2d_2 (Conv2D)            (None, 112, 112, 128)     73856     \n",
      "_________________________________________________________________\n",
      "conv2d_3 (Conv2D)            (None, 112, 112, 128)     147584    \n",
      "_________________________________________________________________\n",
      "max_pooling2d_1 (MaxPooling2 (None, 56, 56, 128)       0         \n",
      "_________________________________________________________________\n",
      "conv2d_4 (Conv2D)            (None, 56, 56, 256)       295168    \n",
      "_________________________________________________________________\n",
      "conv2d_5 (Conv2D)            (None, 56, 56, 256)       590080    \n",
      "_________________________________________________________________\n",
      "conv2d_6 (Conv2D)            (None, 56, 56, 256)       590080    \n",
      "_________________________________________________________________\n",
      "max_pooling2d_2 (MaxPooling2 (None, 28, 28, 256)       0         \n",
      "_________________________________________________________________\n",
      "conv2d_7 (Conv2D)            (None, 28, 28, 512)       1180160   \n",
      "_________________________________________________________________\n",
      "conv2d_8 (Conv2D)            (None, 28, 28, 512)       2359808   \n",
      "_________________________________________________________________\n",
      "conv2d_9 (Conv2D)            (None, 28, 28, 512)       2359808   \n",
      "_________________________________________________________________\n",
      "max_pooling2d_3 (MaxPooling2 (None, 14, 14, 512)       0         \n",
      "_________________________________________________________________\n",
      "conv2d_10 (Conv2D)           (None, 14, 14, 512)       2359808   \n",
      "_________________________________________________________________\n",
      "conv2d_11 (Conv2D)           (None, 14, 14, 512)       2359808   \n",
      "_________________________________________________________________\n",
      "conv2d_12 (Conv2D)           (None, 14, 14, 512)       2359808   \n",
      "_________________________________________________________________\n",
      "max_pooling2d_4 (MaxPooling2 (None, 7, 7, 512)         0         \n",
      "_________________________________________________________________\n",
      "flatten (Flatten)            (None, 25088)             0         \n",
      "_________________________________________________________________\n",
      "dense (Dense)                (None, 4096)              102764544 \n",
      "_________________________________________________________________\n",
      "dense_1 (Dense)              (None, 4096)              16781312  \n",
      "_________________________________________________________________\n",
      "dense_2 (Dense)              (None, 1000)              4097000   \n",
      "_________________________________________________________________\n",
      "hidden_layer (Dense)         (None, 128)               128128    \n",
      "_________________________________________________________________\n",
      "classification_layer (Dense) (None, 64)                8256      \n",
      "=================================================================\n",
      "Total params: 138,493,928\n",
      "Trainable params: 138,493,928\n",
      "Non-trainable params: 0\n",
      "_________________________________________________________________\n",
      "Saved Intermediate model to disk\n"
     ]
    }
   ],
   "source": [
    "# Saving intermediate model\n",
    "intermediate_layer_model.save('/home/poornima/Data/GDPS/Signature_Verification_GDPS_SGD_NoveL_intermediate_model.h5')\n",
    "intermediate_layer_model.summary()\n",
    "\n",
    "print(\"Saved Intermediate model to disk\")"
   ]
  },
  {
   "cell_type": "code",
   "execution_count": 52,
   "metadata": {
    "colab": {
     "base_uri": "https://localhost:8080/",
     "height": 34
    },
    "id": "_TqY_4BnZ8PX",
    "outputId": "bd8dc019-bf2d-46db-cb68-c3ca6aa97faa"
   },
   "outputs": [
    {
     "name": "stdout",
     "output_type": "stream",
     "text": [
      "Intermediate model is loaded\n"
     ]
    }
   ],
   "source": [
    "# Loading Intermediate Model\n",
    "from tensorflow.keras.models import load_model\n",
    "\n",
    "model = load_model('/home/poornima/Data/GDPS/Signature_Verification_GDPS_SGD_NoveL_intermediate_model.h5')\n",
    "print(\"Intermediate model is loaded\")"
   ]
  },
  {
   "cell_type": "code",
   "execution_count": 34,
   "metadata": {
    "colab": {
     "base_uri": "https://localhost:8080/",
     "height": 34
    },
    "id": "-L31_WFZaB1L",
    "outputId": "add94d2d-b95e-4f7d-db42-bb9550b4cafa"
   },
   "outputs": [
    {
     "name": "stdout",
     "output_type": "stream",
     "text": [
      "(172800,)\n"
     ]
    }
   ],
   "source": [
    "# Training Label feature identification(y_train)\n",
    "\n",
    "batch_size=16\n",
    "sample_count=172800\n",
    "features = np.zeros(shape=(172800, 64))  # Must be equal to the output of the convolutional base\n",
    "labels = np.zeros(shape=(172800))\n",
    "i = 0\n",
    "for inputs_batch, labels_batch in train_generator:\n",
    "   features_batch = model.predict(inputs_batch)\n",
    "   features[i * batch_size: (i + 1) * batch_size] = features_batch\n",
    "   labels[i * batch_size: (i + 1) * batch_size] = labels_batch\n",
    "   i += 1\n",
    "   if i*batch_size  >= sample_count:\n",
    "     break\n",
    "print(labels.shape)"
   ]
  },
  {
   "cell_type": "code",
   "execution_count": 35,
   "metadata": {
    "colab": {
     "base_uri": "https://localhost:8080/",
     "height": 289
    },
    "id": "uTKFifVGaH-D",
    "outputId": "e1dc350a-53d6-4e57-a08f-d70706a24ec8"
   },
   "outputs": [
    {
     "name": "stdout",
     "output_type": "stream",
     "text": [
      "(172800, 64)\n",
      "(172800, 1)\n",
      "[[0.]\n",
      " [0.]\n",
      " [0.]\n",
      " ...\n",
      " [1.]\n",
      " [1.]\n",
      " [1.]]\n",
      "[[0.         0.         0.         ... 2.52907419 0.         0.58444768]\n",
      " [0.         0.         0.         ... 1.86369669 0.         0.        ]\n",
      " [0.         0.         0.         ... 1.68260705 0.         0.62407386]\n",
      " ...\n",
      " [0.         3.82223845 2.57166934 ... 0.         0.31463978 0.        ]\n",
      " [0.         4.17052794 3.41389322 ... 1.31855047 1.11241508 0.        ]\n",
      " [0.         3.56231761 3.30371904 ... 1.88273275 0.92336369 0.        ]]\n"
     ]
    }
   ],
   "source": [
    "#identification of training Labels\n",
    "features_train=features\n",
    "print(features_train.shape)\n",
    "labels_train=np.expand_dims(labels, axis=1)\n",
    "print(labels_train.shape)\n",
    "print(labels_train)\n",
    "print(features_train)"
   ]
  },
  {
   "cell_type": "code",
   "execution_count": 53,
   "metadata": {
    "colab": {
     "base_uri": "https://localhost:8080/",
     "height": 68
    },
    "id": "zuqyZ1VjaLMJ",
    "outputId": "f5e00603-cdc1-47d9-b305-1e34e60f532c"
   },
   "outputs": [
    {
     "name": "stdout",
     "output_type": "stream",
     "text": [
      "(43200,)\n",
      "(43200, 64)\n",
      "[0. 0. 0. ... 1. 1. 1.]\n"
     ]
    }
   ],
   "source": [
    "# identification of test labels\n",
    "import numpy as np\n",
    "batch_size=16\n",
    "sample_count=43200\n",
    "features_test = np.zeros(shape=(43200, 64))  # Must be equal to the output of the convolutional base\n",
    "labels_test = np.zeros(shape=(43200))\n",
    "i = 0\n",
    "for inputs_batch, labels_batch in validation_generator:\n",
    "   features_batch = model.predict(inputs_batch)\n",
    "   features_test[i * batch_size: (i + 1) * batch_size] = features_batch\n",
    "   labels_test[i * batch_size: (i + 1) * batch_size] = labels_batch\n",
    "   i += 1\n",
    "   if i*batch_size  >= sample_count:\n",
    "     break\n",
    "print(labels_test.shape)\n",
    "print(features_test.shape)\n",
    "print(labels_test)"
   ]
  },
  {
   "cell_type": "code",
   "execution_count": 54,
   "metadata": {
    "colab": {
     "base_uri": "https://localhost:8080/",
     "height": 170
    },
    "id": "3sxB-SqcaPTV",
    "outputId": "0e7e7f5e-25d8-4acf-e720-752fd3d072df"
   },
   "outputs": [
    {
     "name": "stdout",
     "output_type": "stream",
     "text": [
      "(43200, 64)\n",
      "(43200, 1)\n",
      "[[0.         0.         0.         ... 0.11072733 0.         0.        ]\n",
      " [0.         0.         0.1694645  ... 0.         0.13712069 0.        ]\n",
      " [0.         0.         0.04023382 ... 0.         0.1546997  0.        ]\n",
      " ...\n",
      " [0.         0.         0.         ... 0.09333585 0.         0.02432055]\n",
      " [0.         0.         0.         ... 0.         0.         0.09069319]\n",
      " [0.         0.         0.00435484 ... 0.         0.         0.17354922]]\n"
     ]
    }
   ],
   "source": [
    "# #identification of testing Labels\n",
    "print(features_test.shape)\n",
    "labels_test=np.expand_dims(labels_test, axis=1)\n",
    "print(labels_test.shape)\n",
    "print(features_test)"
   ]
  },
  {
   "cell_type": "code",
   "execution_count": 55,
   "metadata": {
    "colab": {
     "base_uri": "https://localhost:8080/",
     "height": 136
    },
    "id": "cXPaTjNEaTDO",
    "outputId": "38295c87-9bc9-4fc0-a4b5-4bbd80e022ed"
   },
   "outputs": [
    {
     "name": "stdout",
     "output_type": "stream",
     "text": [
      "Confusion matrix: \n",
      "[[17351  6649]\n",
      " [ 8336 10864]]\n",
      "Accuracy: 65.312\n",
      "Precision: 62.034\n",
      "Recall: 56.583\n",
      "F-Measure: 59.183\n"
     ]
    }
   ],
   "source": [
    "# SVM\n",
    "# Feature Scaling\n",
    "from sklearn.preprocessing import StandardScaler\n",
    "sc = StandardScaler()\n",
    "X_train = sc.fit_transform(features_train)\n",
    "X_test = sc.transform(features_test)\n",
    "\n",
    "# Fitting SVM to the Training set\n",
    "from sklearn.svm import SVC\n",
    "classifier = SVC(kernel = 'linear', random_state = 0)\n",
    "classifier.fit(X_train,labels_train.ravel())\n",
    "\n",
    "# Predicting the Test set results\n",
    "y_pred = classifier.predict(X_test)\n",
    "\n",
    "# Making the Confusion Matrix\n",
    "from sklearn.metrics import confusion_matrix\n",
    "cm = confusion_matrix(labels_test, y_pred)\n",
    "print('Confusion matrix: ')\n",
    "print(cm)\n",
    "# calculate Accuracy\n",
    "from sklearn.metrics import accuracy_score\n",
    "print('Accuracy: %.3f' % (accuracy_score(labels_test, y_pred)*100))\n",
    "from sklearn.metrics import precision_score\n",
    "from sklearn.metrics import recall_score\n",
    "from sklearn.metrics import f1_score\n",
    "# calculate precision\n",
    "# Precision = TruePositives / (TruePositives + FalsePositives)\n",
    "precision = precision_score(labels_test, y_pred, average='binary')\n",
    "print('Precision: %.3f' % (precision*100))\n",
    "# calculate recall\n",
    "# Recall = TruePositives / (TruePositives + FalseNegatives)\n",
    "recall = recall_score(labels_test, y_pred, average='binary')\n",
    "print('Recall: %.3f' % (recall*100))\n",
    "# F-Measure = (2 * Precision * Recall) / (Precision + Recall)\n",
    "# calculate score\n",
    "score = f1_score(labels_test, y_pred, average='binary')\n",
    "print('F-Measure: %.3f' % (score*100))"
   ]
  },
  {
   "cell_type": "code",
   "execution_count": 56,
   "metadata": {
    "colab": {
     "base_uri": "https://localhost:8080/",
     "height": 136
    },
    "id": "tK7WfMXhaWy5",
    "outputId": "7a1e7f87-2353-4c21-c73c-6453a7ff3849"
   },
   "outputs": [
    {
     "name": "stdout",
     "output_type": "stream",
     "text": [
      "Confusion matrix: \n",
      "[[19144  4856]\n",
      " [10248  8952]]\n",
      "Accuracy: 65.037\n",
      "Precision: 64.832\n",
      "Recall: 46.625\n",
      "F-Measure: 54.241\n"
     ]
    }
   ],
   "source": [
    "# Kernel SVM\n",
    "# Feature Scaling\n",
    "from sklearn.preprocessing import StandardScaler\n",
    "sc = StandardScaler()\n",
    "X_train = sc.fit_transform(features_train)\n",
    "X_test = sc.transform(features_test)\n",
    "\n",
    "# Fitting KernelSVM to the Training set\n",
    "from sklearn.svm import SVC\n",
    "classifier = SVC(kernel = 'rbf', random_state = 0)\n",
    "classifier.fit(X_train, labels_train.ravel())\n",
    "\n",
    "# Predicting the Test set results\n",
    "y_pred = classifier.predict(X_test)\n",
    "\n",
    "# Making the Confusion Matrix\n",
    "from sklearn.metrics import confusion_matrix\n",
    "cm = confusion_matrix(labels_test, y_pred)\n",
    "print('Confusion matrix: ')\n",
    "print(cm)\n",
    "# calculate Accuracy\n",
    "from sklearn.metrics import accuracy_score\n",
    "print('Accuracy: %.3f' % (accuracy_score(labels_test, y_pred)*100))\n",
    "from sklearn.metrics import precision_score\n",
    "from sklearn.metrics import recall_score\n",
    "from sklearn.metrics import f1_score\n",
    "# calculate precision\n",
    "# Precision = TruePositives / (TruePositives + FalsePositives)\n",
    "precision = precision_score(labels_test, y_pred, average='binary')\n",
    "print('Precision: %.3f' % (precision*100))\n",
    "# calculate recall\n",
    "# Recall = TruePositives / (TruePositives + FalseNegatives)\n",
    "recall = recall_score(labels_test, y_pred, average='binary')\n",
    "print('Recall: %.3f' % (recall*100))\n",
    "# F-Measure = (2 * Precision * Recall) / (Precision + Recall)\n",
    "# calculate score\n",
    "score = f1_score(labels_test, y_pred, average='binary')\n",
    "print('F-Measure: %.3f' % (score*100))"
   ]
  },
  {
   "cell_type": "code",
   "execution_count": 57,
   "metadata": {
    "colab": {
     "base_uri": "https://localhost:8080/",
     "height": 136
    },
    "id": "lRNFNMveaah7",
    "outputId": "f088fe27-7e58-4bab-fe4e-07fc044ae0c4"
   },
   "outputs": [
    {
     "name": "stdout",
     "output_type": "stream",
     "text": [
      "Confusion matrix: \n",
      "[[15981  8019]\n",
      " [ 7052 12148]]\n",
      "Accuracy: 65.113\n",
      "Precision: 60.237\n",
      "Recall: 63.271\n",
      "F-Measure: 61.717\n"
     ]
    }
   ],
   "source": [
    "# Random Forest\n",
    "# Feature Scaling\n",
    "from sklearn.preprocessing import StandardScaler\n",
    "sc = StandardScaler()\n",
    "X_train = sc.fit_transform(features_train)\n",
    "X_test = sc.transform(features_test)\n",
    "\n",
    "# Fitting KernelSVM to the Training set\n",
    "from sklearn.ensemble import RandomForestClassifier\n",
    "classifier = RandomForestClassifier(n_estimators = 10, criterion = 'entropy', random_state = 0)\n",
    "classifier.fit(X_train, labels_train.ravel())\n",
    "\n",
    "# Predicting the Test set results\n",
    "y_pred = classifier.predict(X_test)\n",
    "\n",
    "# Making the Confusion Matrix\n",
    "from sklearn.metrics import confusion_matrix\n",
    "cm = confusion_matrix(labels_test, y_pred)\n",
    "print('Confusion matrix: ')\n",
    "print(cm)\n",
    "# calculate Accuracy\n",
    "from sklearn.metrics import accuracy_score\n",
    "print('Accuracy: %.3f' % (accuracy_score(labels_test, y_pred)*100))\n",
    "from sklearn.metrics import precision_score\n",
    "from sklearn.metrics import recall_score\n",
    "from sklearn.metrics import f1_score\n",
    "# calculate precision\n",
    "# Precision = TruePositives / (TruePositives + FalsePositives)\n",
    "precision = precision_score(labels_test, y_pred, average='binary')\n",
    "print('Precision: %.3f' % (precision*100))\n",
    "# calculate recall\n",
    "# Recall = TruePositives / (TruePositives + FalseNegatives)\n",
    "recall = recall_score(labels_test, y_pred, average='binary')\n",
    "print('Recall: %.3f' % (recall*100))\n",
    "# F-Measure = (2 * Precision * Recall) / (Precision + Recall)\n",
    "# calculate score\n",
    "score = f1_score(labels_test, y_pred, average='binary')\n",
    "print('F-Measure: %.3f' % (score*100))"
   ]
  },
  {
   "cell_type": "code",
   "execution_count": 58,
   "metadata": {
    "colab": {
     "base_uri": "https://localhost:8080/",
     "height": 136
    },
    "id": "bu_p4Ux7apAA",
    "outputId": "e7604cbe-2444-4215-b4da-a387a73f32cf"
   },
   "outputs": [
    {
     "name": "stdout",
     "output_type": "stream",
     "text": [
      "Confusion matrix: \n",
      "[[16380  7620]\n",
      " [ 7385 11815]]\n",
      "Accuracy: 65.266\n",
      "Precision: 60.792\n",
      "Recall: 61.536\n",
      "F-Measure: 61.162\n"
     ]
    }
   ],
   "source": [
    "# Naive Bayes\n",
    "# Feature Scaling\n",
    "from sklearn.preprocessing import StandardScaler\n",
    "sc = StandardScaler()\n",
    "X_train = sc.fit_transform(features_train)\n",
    "X_test = sc.transform(features_test)\n",
    "\n",
    "# Fitting KernelSVM to the Training set\n",
    "from sklearn.naive_bayes import GaussianNB\n",
    "classifier = GaussianNB()\n",
    "classifier.fit(X_train, labels_train.ravel())\n",
    "\n",
    "# Predicting the Test set results\n",
    "y_pred = classifier.predict(X_test)\n",
    "\n",
    "# Making the Confusion Matrix\n",
    "from sklearn.metrics import confusion_matrix\n",
    "cm = confusion_matrix(labels_test, y_pred)\n",
    "print('Confusion matrix: ')\n",
    "print(cm)\n",
    "# calculate Accuracy\n",
    "from sklearn.metrics import accuracy_score\n",
    "print('Accuracy: %.3f' % (accuracy_score(labels_test, y_pred)*100))\n",
    "from sklearn.metrics import precision_score\n",
    "from sklearn.metrics import recall_score\n",
    "from sklearn.metrics import f1_score\n",
    "# calculate precision\n",
    "# Precision = TruePositives / (TruePositives + FalsePositives)\n",
    "precision = precision_score(labels_test, y_pred, average='binary')\n",
    "print('Precision: %.3f' % (precision*100))\n",
    "# calculate recall\n",
    "# Recall = TruePositives / (TruePositives + FalseNegatives)\n",
    "recall = recall_score(labels_test, y_pred, average='binary')\n",
    "print('Recall: %.3f' % (recall*100))\n",
    "# F-Measure = (2 * Precision * Recall) / (Precision + Recall)\n",
    "# calculate score\n",
    "score = f1_score(labels_test, y_pred, average='binary')\n",
    "print('F-Measure: %.3f' % (score*100))"
   ]
  },
  {
   "cell_type": "code",
   "execution_count": 59,
   "metadata": {
    "colab": {
     "base_uri": "https://localhost:8080/",
     "height": 136
    },
    "id": "YnfeZ4eVavhm",
    "outputId": "2829fe02-479b-4aee-a9e8-b480a44fd5a4"
   },
   "outputs": [
    {
     "name": "stdout",
     "output_type": "stream",
     "text": [
      "Confusion matrix: \n",
      "[[16130  7870]\n",
      " [ 9002 10198]]\n",
      "Accuracy: 60.944\n",
      "Precision: 56.442\n",
      "Recall: 53.115\n",
      "F-Measure: 54.728\n"
     ]
    }
   ],
   "source": [
    "# Feature Scaling\n",
    "from sklearn.preprocessing import StandardScaler\n",
    "sc = StandardScaler()\n",
    "X_train = sc.fit_transform(features_train)\n",
    "X_test = sc.transform(features_test)\n",
    "\n",
    "# Fitting KernelSVM to the Training set\n",
    "from sklearn.neighbors import KNeighborsClassifier\n",
    "classifier =  KNeighborsClassifier(n_neighbors = 5, metric = 'minkowski', p = 2)\n",
    "classifier.fit(X_train, labels_train.ravel())\n",
    "\n",
    "# Predicting the Test set results\n",
    "y_pred = classifier.predict(X_test)\n",
    "\n",
    "# Making the Confusion Matrix\n",
    "from sklearn.metrics import confusion_matrix\n",
    "cm = confusion_matrix(labels_test, y_pred)\n",
    "print('Confusion matrix: ')\n",
    "print(cm)\n",
    "# calculate Accuracy\n",
    "from sklearn.metrics import accuracy_score\n",
    "print('Accuracy: %.3f' % (accuracy_score(labels_test, y_pred)*100))\n",
    "from sklearn.metrics import precision_score\n",
    "from sklearn.metrics import recall_score\n",
    "from sklearn.metrics import f1_score\n",
    "# calculate precision\n",
    "# Precision = TruePositives / (TruePositives + FalsePositives)\n",
    "precision = precision_score(labels_test, y_pred, average='binary')\n",
    "print('Precision: %.3f' % (precision*100))\n",
    "# calculate recall\n",
    "# Recall = TruePositives / (TruePositives + FalseNegatives)\n",
    "recall = recall_score(labels_test, y_pred, average='binary')\n",
    "print('Recall: %.3f' % (recall*100))\n",
    "# F-Measure = (2 * Precision * Recall) / (Precision + Recall)\n",
    "# calculate score\n",
    "score = f1_score(labels_test, y_pred, average='binary')\n",
    "print('F-Measure: %.3f' % (score*100))"
   ]
  },
  {
   "cell_type": "code",
   "execution_count": 60,
   "metadata": {
    "colab": {
     "base_uri": "https://localhost:8080/",
     "height": 136
    },
    "id": "qsHQZapTazre",
    "outputId": "20415cfc-f5a5-46f0-a640-df64f0626191"
   },
   "outputs": [
    {
     "name": "stdout",
     "output_type": "stream",
     "text": [
      "Confusion matrix: \n",
      "[[14964  9036]\n",
      " [ 6117 13083]]\n",
      "Accuracy: 64.924\n",
      "Precision: 59.148\n",
      "Recall: 68.141\n",
      "F-Measure: 63.327\n"
     ]
    },
    {
     "name": "stderr",
     "output_type": "stream",
     "text": [
      "/home/poornima/anaconda3/envs/keras/lib/python3.9/site-packages/sklearn/linear_model/_logistic.py:814: ConvergenceWarning: lbfgs failed to converge (status=1):\n",
      "STOP: TOTAL NO. of ITERATIONS REACHED LIMIT.\n",
      "\n",
      "Increase the number of iterations (max_iter) or scale the data as shown in:\n",
      "    https://scikit-learn.org/stable/modules/preprocessing.html\n",
      "Please also refer to the documentation for alternative solver options:\n",
      "    https://scikit-learn.org/stable/modules/linear_model.html#logistic-regression\n",
      "  n_iter_i = _check_optimize_result(\n"
     ]
    }
   ],
   "source": [
    "from sklearn.linear_model import LogisticRegression\n",
    "\n",
    "classifier = LogisticRegression(random_state = 0)\n",
    "# Feature Scaling\n",
    "from sklearn.preprocessing import StandardScaler\n",
    "sc = StandardScaler()\n",
    "X_train = sc.fit_transform(features_train)\n",
    "X_test = sc.transform(features_test)\n",
    "\n",
    "from sklearn.linear_model import LogisticRegression\n",
    "classifier = LogisticRegression(random_state = 0)\n",
    "classifier.fit(X_train, labels_train.ravel())\n",
    "\n",
    "# Predicting the Test set results\n",
    "y_pred = classifier.predict(X_test)\n",
    "\n",
    "# Making the Confusion Matrix\n",
    "from sklearn.metrics import confusion_matrix\n",
    "cm = confusion_matrix(labels_test, y_pred)\n",
    "print('Confusion matrix: ')\n",
    "print(cm)\n",
    "# calculate Accuracy\n",
    "from sklearn.metrics import accuracy_score\n",
    "print('Accuracy: %.3f' % (accuracy_score(labels_test, y_pred)*100))\n",
    "from sklearn.metrics import precision_score\n",
    "from sklearn.metrics import recall_score\n",
    "from sklearn.metrics import f1_score\n",
    "# calculate precision\n",
    "# Precision = TruePositives / (TruePositives + FalsePositives)\n",
    "precision = precision_score(labels_test, y_pred, average='binary')\n",
    "print('Precision: %.3f' % (precision*100))\n",
    "# calculate recall\n",
    "# Recall = TruePositives / (TruePositives + FalseNegatives)\n",
    "recall = recall_score(labels_test, y_pred, average='binary')\n",
    "print('Recall: %.3f' % (recall*100))\n",
    "# F-Measure = (2 * Precision * Recall) / (Precision + Recall)\n",
    "# calculate score\n",
    "score = f1_score(labels_test, y_pred, average='binary')\n",
    "print('F-Measure: %.3f' % (score*100))"
   ]
  },
  {
   "cell_type": "code",
   "execution_count": 48,
   "metadata": {
    "colab": {
     "base_uri": "https://localhost:8080/",
     "height": 85
    },
    "id": "f7EDeFata22V",
    "outputId": "d128b41e-4efa-4322-fc24-ec9160e7099e"
   },
   "outputs": [
    {
     "name": "stdout",
     "output_type": "stream",
     "text": [
      "\n",
      "# Evaluate on test data\n",
      "2700/2700 [==============================] - 125s 46ms/step - loss: 0.6209 - accuracy: 0.6570\n",
      "test loss, test acc: [0.6208863854408264, 0.6570138931274414]\n"
     ]
    }
   ],
   "source": [
    "from tensorflow.keras.models import load_model\n",
    "\n",
    "model = load_model('/home/poornima/Data/GDPS/Signature_Verification_GDPS_SGD_Novel-FINAL-63-0.66.h5')\n",
    "# Evaluate the model on the test data using `evaluate`\n",
    "print('\\n# Evaluate on test data')\n",
    "results = model.evaluate(validation_generator)\n",
    "print('test loss, test acc:', results)"
   ]
  },
  {
   "cell_type": "code",
   "execution_count": 47,
   "metadata": {},
   "outputs": [
    {
     "name": "stdout",
     "output_type": "stream",
     "text": [
      "\n",
      "# Evaluate on test data\n",
      "2700/2700 [==============================] - 126s 47ms/step - loss: 2.7977 - accuracy: 0.6233\n",
      "test loss, test acc: [2.7976648807525635, 0.6233333349227905]\n"
     ]
    }
   ],
   "source": [
    "'/home/poornima/Data/GDPS/Signature_Verification_GDPS_SGD_Novel-FINAL.h5'\n",
    "from tensorflow.keras.models import load_model\n",
    "\n",
    "model = load_model('/home/poornima/Data/GDPS/Signature_Verification_GDPS_SGD_Novel-FINAL.h5')\n",
    "# Evaluate the model on the test data using `evaluate`\n",
    "print('\\n# Evaluate on test data')\n",
    "results = model.evaluate(validation_generator)\n",
    "print('test loss, test acc:', results)"
   ]
  },
  {
   "cell_type": "code",
   "execution_count": 61,
   "metadata": {},
   "outputs": [
    {
     "name": "stdout",
     "output_type": "stream",
     "text": [
      "Confusion matrix: \n",
      "[[15614  8386]\n",
      " [ 8296 10904]]\n",
      "Accuracy: 61.384\n",
      "Precision: 56.527\n",
      "Recall: 56.792\n",
      "F-Measure: 56.659\n"
     ]
    }
   ],
   "source": [
    "\n",
    "# decision tree\n",
    "from sklearn.preprocessing import StandardScaler\n",
    "sc = StandardScaler()\n",
    "X_train = sc.fit_transform(features_train)\n",
    "X_test = sc.transform(features_test)\n",
    "\n",
    "# Fitting Decision Tree Classification to the Training set\n",
    "from sklearn.tree import DecisionTreeClassifier\n",
    "classifier = DecisionTreeClassifier(criterion = 'entropy', random_state = 42)\n",
    "\n",
    "classifier.fit(X_train, labels_train.ravel())\n",
    "\n",
    "# Predicting the Test set results\n",
    "y_pred = classifier.predict(X_test)\n",
    "\n",
    "# Making the Confusion Matrix\n",
    "from sklearn.metrics import confusion_matrix\n",
    "cm = confusion_matrix(labels_test, y_pred)\n",
    "print('Confusion matrix: ')\n",
    "print(cm)\n",
    "# calculate Accuracy\n",
    "from sklearn.metrics import accuracy_score\n",
    "print('Accuracy: %.3f' % (accuracy_score(labels_test, y_pred)*100))\n",
    "from sklearn.metrics import precision_score\n",
    "from sklearn.metrics import recall_score\n",
    "from sklearn.metrics import f1_score\n",
    "# calculate precision\n",
    "# Precision = TruePositives / (TruePositives + FalsePositives)\n",
    "precision = precision_score(labels_test, y_pred, average='binary')\n",
    "print('Precision: %.3f' % (precision*100))\n",
    "# calculate recall\n",
    "# Recall = TruePositives / (TruePositives + FalseNegatives)\n",
    "recall = recall_score(labels_test, y_pred, average='binary')\n",
    "print('Recall: %.3f' % (recall*100))\n",
    "# F-Measure = (2 * Precision * Recall) / (Precision + Recall)\n",
    "# calculate score\n",
    "score = f1_score(labels_test, y_pred, average='binary')\n",
    "print('F-Measure: %.3f' % (score*100))"
   ]
  },
  {
   "cell_type": "code",
   "execution_count": null,
   "metadata": {},
   "outputs": [],
   "source": []
  },
  {
   "cell_type": "code",
   "execution_count": null,
   "metadata": {
    "colab": {
     "base_uri": "https://localhost:8080/",
     "height": 83,
     "referenced_widgets": [
      "3bb62a57242e42c5a1d64b5a22be1aa0",
      "05a69fe882d447d094157958ab8e9bc9",
      "6f251c500d4048e2a33b2fdd5b1f9e3b",
      "ae39a7caa10e4b0ca753de0771874d07",
      "46c90d206d3f4d29b64a59db3e6f979f"
     ]
    },
    "id": "JLQ8BYGedcbk",
    "outputId": "c288c170-589c-4cb3-bc75-c56b1d70a5b8"
   },
   "outputs": [],
   "source": [
    "from tensorflow.keras.preprocessing import image\n",
    "from tensorflow.keras.applications.vgg16 import preprocess_input\n",
    "from tensorflow.keras.models import Model\n",
    "import numpy as np\n",
    "from tensorflow.keras.models import load_model\n",
    "import ipywidgets as widgets\n",
    "from IPython.display import display\n",
    "button = widgets.Button(description=\"Click to know category of Image\",  )\n",
    "output = widgets.Output()\n",
    "\n",
    "model = load_model('/home/poornima/Data/GDPS/Signature_Verification_GDPS_SGD_Novel-FINAL.h5')\n",
    "img_path = '/home/poornima/Data/GDPS/train_dir/forged/cf-001-01.jpg'\n",
    "img = image.load_img(img_path, target_size=(224, 224))\n",
    "x = image.img_to_array(img)\n",
    "x = np.expand_dims(x, axis=0)\n",
    "x = preprocess_input(x)\n",
    "\n",
    "block4_pool_features = model.predict(x)\n",
    "print(block4_pool_features)\n",
    "if(block4_pool_features> 0.5):\n",
    "  a= 'Genuine'\n",
    "elif(block4_pool_features< 0.5):\n",
    "  a='forged'\n",
    "def on_button_clicked(b):\n",
    "  # Display the message within the output widget.\n",
    "  with output:\n",
    "    print(\"Image is  \"  + a)\n",
    "\n",
    "button.on_click(on_button_clicked)\n",
    "display(button, output)"
   ]
  }
 ],
 "metadata": {
  "accelerator": "GPU",
  "colab": {
   "collapsed_sections": [],
   "name": "Signature Verification  GDPS dataset.ipynb",
   "provenance": []
  },
  "kernelspec": {
   "display_name": "Python 3 (ipykernel)",
   "language": "python",
   "name": "python3"
  },
  "language_info": {
   "codemirror_mode": {
    "name": "ipython",
    "version": 3
   },
   "file_extension": ".py",
   "mimetype": "text/x-python",
   "name": "python",
   "nbconvert_exporter": "python",
   "pygments_lexer": "ipython3",
   "version": "3.9.7"
  },
  "widgets": {
   "application/vnd.jupyter.widget-state+json": {
    "05a69fe882d447d094157958ab8e9bc9": {
     "model_module": "@jupyter-widgets/base",
     "model_module_version": "1.2.0",
     "model_name": "LayoutModel",
     "state": {
      "_model_module": "@jupyter-widgets/base",
      "_model_module_version": "1.2.0",
      "_model_name": "LayoutModel",
      "_view_count": null,
      "_view_module": "@jupyter-widgets/base",
      "_view_module_version": "1.2.0",
      "_view_name": "LayoutView",
      "align_content": null,
      "align_items": null,
      "align_self": null,
      "border": null,
      "bottom": null,
      "display": null,
      "flex": null,
      "flex_flow": null,
      "grid_area": null,
      "grid_auto_columns": null,
      "grid_auto_flow": null,
      "grid_auto_rows": null,
      "grid_column": null,
      "grid_gap": null,
      "grid_row": null,
      "grid_template_areas": null,
      "grid_template_columns": null,
      "grid_template_rows": null,
      "height": null,
      "justify_content": null,
      "justify_items": null,
      "left": null,
      "margin": null,
      "max_height": null,
      "max_width": null,
      "min_height": null,
      "min_width": null,
      "object_fit": null,
      "object_position": null,
      "order": null,
      "overflow": null,
      "overflow_x": null,
      "overflow_y": null,
      "padding": null,
      "right": null,
      "top": null,
      "visibility": null,
      "width": null
     }
    },
    "153a6e590daf47bf92200b4baeb536fc": {
     "model_module": "@jupyter-widgets/controls",
     "model_module_version": "1.5.0",
     "model_name": "ButtonStyleModel",
     "state": {
      "_model_module": "@jupyter-widgets/controls",
      "_model_module_version": "1.5.0",
      "_model_name": "ButtonStyleModel",
      "_view_count": null,
      "_view_module": "@jupyter-widgets/base",
      "_view_module_version": "1.2.0",
      "_view_name": "StyleView",
      "button_color": null,
      "font_weight": ""
     }
    },
    "3bb62a57242e42c5a1d64b5a22be1aa0": {
     "model_module": "@jupyter-widgets/controls",
     "model_module_version": "1.5.0",
     "model_name": "ButtonModel",
     "state": {
      "_dom_classes": [],
      "_model_module": "@jupyter-widgets/controls",
      "_model_module_version": "1.5.0",
      "_model_name": "ButtonModel",
      "_view_count": null,
      "_view_module": "@jupyter-widgets/controls",
      "_view_module_version": "1.5.0",
      "_view_name": "ButtonView",
      "button_style": "",
      "description": "Click to know category of Image",
      "disabled": false,
      "icon": "",
      "layout": "IPY_MODEL_05a69fe882d447d094157958ab8e9bc9",
      "style": "IPY_MODEL_6f251c500d4048e2a33b2fdd5b1f9e3b",
      "tooltip": ""
     }
    },
    "46c90d206d3f4d29b64a59db3e6f979f": {
     "model_module": "@jupyter-widgets/base",
     "model_module_version": "1.2.0",
     "model_name": "LayoutModel",
     "state": {
      "_model_module": "@jupyter-widgets/base",
      "_model_module_version": "1.2.0",
      "_model_name": "LayoutModel",
      "_view_count": null,
      "_view_module": "@jupyter-widgets/base",
      "_view_module_version": "1.2.0",
      "_view_name": "LayoutView",
      "align_content": null,
      "align_items": null,
      "align_self": null,
      "border": null,
      "bottom": null,
      "display": null,
      "flex": null,
      "flex_flow": null,
      "grid_area": null,
      "grid_auto_columns": null,
      "grid_auto_flow": null,
      "grid_auto_rows": null,
      "grid_column": null,
      "grid_gap": null,
      "grid_row": null,
      "grid_template_areas": null,
      "grid_template_columns": null,
      "grid_template_rows": null,
      "height": null,
      "justify_content": null,
      "justify_items": null,
      "left": null,
      "margin": null,
      "max_height": null,
      "max_width": null,
      "min_height": null,
      "min_width": null,
      "object_fit": null,
      "object_position": null,
      "order": null,
      "overflow": null,
      "overflow_x": null,
      "overflow_y": null,
      "padding": null,
      "right": null,
      "top": null,
      "visibility": null,
      "width": null
     }
    },
    "642c7e2437e84b21b937880c574192ea": {
     "model_module": "@jupyter-widgets/base",
     "model_module_version": "1.2.0",
     "model_name": "LayoutModel",
     "state": {
      "_model_module": "@jupyter-widgets/base",
      "_model_module_version": "1.2.0",
      "_model_name": "LayoutModel",
      "_view_count": null,
      "_view_module": "@jupyter-widgets/base",
      "_view_module_version": "1.2.0",
      "_view_name": "LayoutView",
      "align_content": null,
      "align_items": null,
      "align_self": null,
      "border": null,
      "bottom": null,
      "display": null,
      "flex": null,
      "flex_flow": null,
      "grid_area": null,
      "grid_auto_columns": null,
      "grid_auto_flow": null,
      "grid_auto_rows": null,
      "grid_column": null,
      "grid_gap": null,
      "grid_row": null,
      "grid_template_areas": null,
      "grid_template_columns": null,
      "grid_template_rows": null,
      "height": null,
      "justify_content": null,
      "justify_items": null,
      "left": null,
      "margin": null,
      "max_height": null,
      "max_width": null,
      "min_height": null,
      "min_width": null,
      "object_fit": null,
      "object_position": null,
      "order": null,
      "overflow": null,
      "overflow_x": null,
      "overflow_y": null,
      "padding": null,
      "right": null,
      "top": null,
      "visibility": null,
      "width": null
     }
    },
    "6f251c500d4048e2a33b2fdd5b1f9e3b": {
     "model_module": "@jupyter-widgets/controls",
     "model_module_version": "1.5.0",
     "model_name": "ButtonStyleModel",
     "state": {
      "_model_module": "@jupyter-widgets/controls",
      "_model_module_version": "1.5.0",
      "_model_name": "ButtonStyleModel",
      "_view_count": null,
      "_view_module": "@jupyter-widgets/base",
      "_view_module_version": "1.2.0",
      "_view_name": "StyleView",
      "button_color": null,
      "font_weight": ""
     }
    },
    "a52c0dab35c8411f8a1e83686d210415": {
     "model_module": "@jupyter-widgets/base",
     "model_module_version": "1.2.0",
     "model_name": "LayoutModel",
     "state": {
      "_model_module": "@jupyter-widgets/base",
      "_model_module_version": "1.2.0",
      "_model_name": "LayoutModel",
      "_view_count": null,
      "_view_module": "@jupyter-widgets/base",
      "_view_module_version": "1.2.0",
      "_view_name": "LayoutView",
      "align_content": null,
      "align_items": null,
      "align_self": null,
      "border": null,
      "bottom": null,
      "display": null,
      "flex": null,
      "flex_flow": null,
      "grid_area": null,
      "grid_auto_columns": null,
      "grid_auto_flow": null,
      "grid_auto_rows": null,
      "grid_column": null,
      "grid_gap": null,
      "grid_row": null,
      "grid_template_areas": null,
      "grid_template_columns": null,
      "grid_template_rows": null,
      "height": null,
      "justify_content": null,
      "justify_items": null,
      "left": null,
      "margin": null,
      "max_height": null,
      "max_width": null,
      "min_height": null,
      "min_width": null,
      "object_fit": null,
      "object_position": null,
      "order": null,
      "overflow": null,
      "overflow_x": null,
      "overflow_y": null,
      "padding": null,
      "right": null,
      "top": null,
      "visibility": null,
      "width": null
     }
    },
    "ae39a7caa10e4b0ca753de0771874d07": {
     "model_module": "@jupyter-widgets/output",
     "model_module_version": "1.0.0",
     "model_name": "OutputModel",
     "state": {
      "_dom_classes": [],
      "_model_module": "@jupyter-widgets/output",
      "_model_module_version": "1.0.0",
      "_model_name": "OutputModel",
      "_view_count": null,
      "_view_module": "@jupyter-widgets/output",
      "_view_module_version": "1.0.0",
      "_view_name": "OutputView",
      "layout": "IPY_MODEL_46c90d206d3f4d29b64a59db3e6f979f",
      "msg_id": "",
      "outputs": [
       {
        "metadata": {
         "tags": []
        },
        "output_type": "stream",
        "stream": "stdout",
        "text": "Image is  forged\n"
       }
      ]
     }
    },
    "bed5f74780ae4f8d87800bd1e244be5e": {
     "model_module": "@jupyter-widgets/output",
     "model_module_version": "1.0.0",
     "model_name": "OutputModel",
     "state": {
      "_dom_classes": [],
      "_model_module": "@jupyter-widgets/output",
      "_model_module_version": "1.0.0",
      "_model_name": "OutputModel",
      "_view_count": null,
      "_view_module": "@jupyter-widgets/output",
      "_view_module_version": "1.0.0",
      "_view_name": "OutputView",
      "layout": "IPY_MODEL_642c7e2437e84b21b937880c574192ea",
      "msg_id": "",
      "outputs": [
       {
        "metadata": {
         "tags": []
        },
        "output_type": "stream",
        "stream": "stdout",
        "text": "Button clicked.\n"
       }
      ]
     }
    },
    "d51a8019e74344f088a8f7ef974eb613": {
     "model_module": "@jupyter-widgets/controls",
     "model_module_version": "1.5.0",
     "model_name": "ButtonModel",
     "state": {
      "_dom_classes": [],
      "_model_module": "@jupyter-widgets/controls",
      "_model_module_version": "1.5.0",
      "_model_name": "ButtonModel",
      "_view_count": null,
      "_view_module": "@jupyter-widgets/controls",
      "_view_module_version": "1.5.0",
      "_view_name": "ButtonView",
      "button_style": "",
      "description": "Click Me!",
      "disabled": false,
      "icon": "",
      "layout": "IPY_MODEL_a52c0dab35c8411f8a1e83686d210415",
      "style": "IPY_MODEL_153a6e590daf47bf92200b4baeb536fc",
      "tooltip": ""
     }
    }
   }
  }
 },
 "nbformat": 4,
 "nbformat_minor": 1
}
